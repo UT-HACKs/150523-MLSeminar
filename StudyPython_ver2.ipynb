{
 "cells": [
  {
   "cell_type": "markdown",
   "metadata": {
    "slideshow": {
     "slide_type": "slide"
    }
   },
   "source": [
    "# 機械学習講習会 \n",
    "#pythonにおける基本的な文法\n",
    "## @ 虎ノ門\n",
    "\n",
    "#### 中西均\n",
    "\n",
    "#### 2015/ 5/ 23 (Sat)"
   ]
  },
  {
   "cell_type": "markdown",
   "metadata": {
    "slideshow": {
     "slide_type": "slide"
    }
   },
   "source": [
    "# 謝辞\n",
    "#### 企画・会場設備の提供をしてくださった\n",
    "###BizJapan様, COMx様\n",
    "####にこの場をお借りして御礼申し上げます。"
   ]
  },
  {
   "cell_type": "markdown",
   "metadata": {
    "slideshow": {
     "slide_type": "slide"
    }
   },
   "source": [
    "#自己紹介\n",
    "\n",
    "## 中西 均\n",
    "#### 所属: 東大理学系研究科物理学専攻(専門:素粒子実験)\n",
    "#### 趣味: 体操\n",
    "#### 言語: Rails, SQL, Python, swiftを勉強中"
   ]
  },
  {
   "cell_type": "markdown",
   "metadata": {
    "slideshow": {
     "slide_type": "slide"
    }
   },
   "source": [
    "# はじめに\n",
    "\n",
    "## この回では、pythonの基本的な文法を紹介します。\n",
    "##### pythonによる機械学習の実装に向けたデータ加工、データビジュアライゼーションを中心に扱います。"
   ]
  },
  {
   "cell_type": "markdown",
   "metadata": {
    "slideshow": {
     "slide_type": "slide"
    }
   },
   "source": [
    "# 目次\n",
    "## Pythonを使ったデータ解析\n",
    "## パッケージ、モジュールの読み込み\n",
    "## 基本的な文法: 型、条件文、関数\n",
    "## Dataの加工処理とVisualization: Numpy,  PandasとMatplotlib\n",
    "## Fileの読み書き"
   ]
  },
  {
   "cell_type": "markdown",
   "metadata": {
    "slideshow": {
     "slide_type": "slide"
    }
   },
   "source": [
    "# Pythonを使ったデータ解析\n",
    "\n",
    "Pythonを使ってデータ解析を行うことを考えます。\n",
    "\n",
    "一般に次の順番で解析が進行します。\n",
    "\n",
    "- データの取得(API, webからの取得, csv file, SQL)\n",
    "- データの加工その1( <font color='red'>numpy</font> や <font color='red'>pandas</font> などを使った行列計算)\n",
    "- 機械学習、データ分析(今回は <font color='red'>scikit learn</font> を用います)\n",
    "- データの加工その2( <font color='red'>numpy</font> や <font color='red'>pandas</font> などを使って整形)\n",
    "- データの可視化( <font color='red'>matplotlib</font> を使って表現)\n",
    "- データの保存\n"
   ]
  },
  {
   "cell_type": "markdown",
   "metadata": {
    "slideshow": {
     "slide_type": "slide"
    }
   },
   "source": [
    "# なぜpythonでデータ解析?\n",
    "## データ = 構造化された情報\n",
    "データセットには、\n",
    "\n",
    "1. 複数の次元の配列・<font color='red'>行列</font>\n",
    "1. 複数の異なる型のスプレッドシート形式のデータ(<font color='red'>csv</font>, <font color='red'>tsv</font>)\n",
    "1. <font color='red'>SQL</font>などのキー列に紐付いたデータ\n",
    "1. <font color='red'>時系列データ</font>\n",
    "\n",
    "などがある。\n",
    "\n",
    "また、初めは構造化されていないが、分析・モデル化により構造化されたデータもある。\n",
    "\n",
    "- ニュースサイトの記事といった<font color='red'>自然言語</font>"
   ]
  },
  {
   "cell_type": "markdown",
   "metadata": {
    "slideshow": {
     "slide_type": "subslide"
    }
   },
   "source": [
    "# pythonを使う理由\n",
    "\n",
    "複数の型のデータ\n",
    "\n",
    "データの構造化を行うのに優れている\n",
    "\n",
    "文字列の扱いに優れている\n",
    "\n",
    "他の言語との互換性が良い\n",
    "\n",
    "などの理由から、pythonが便利である。"
   ]
  },
  {
   "cell_type": "markdown",
   "metadata": {
    "slideshow": {
     "slide_type": "slide"
    }
   },
   "source": [
    "## それではcodeを書いていきましょう。"
   ]
  },
  {
   "cell_type": "markdown",
   "metadata": {
    "slideshow": {
     "slide_type": "slide"
    }
   },
   "source": [
    "# パッケージ、モジュールの読み込み\n",
    "\n",
    "pythonでのパッケージ、モジュールの読み込み方法は、\n",
    "\n",
    "import A\n",
    "\n",
    "import A.B\n",
    "\n",
    "import A as B\n",
    "\n",
    "from B import A\n",
    "\n",
    "のようにして行うことができる。\n",
    "これらの表記の違いはモジュールインポート後のアクセス方法の違いに関わってくる。"
   ]
  },
  {
   "cell_type": "code",
   "execution_count": 1,
   "metadata": {
    "collapsed": false,
    "slideshow": {
     "slide_type": "subslide"
    }
   },
   "outputs": [],
   "source": [
    "%matplotlib inline\n",
    "import math\n",
    "import numpy as np\n",
    "from numpy.random import *\n",
    "import pandas as pd\n",
    "import matplotlib.pyplot as plt  # pylabの代わりにmatplotlibのpyplotを使う。"
   ]
  },
  {
   "cell_type": "markdown",
   "metadata": {
    "slideshow": {
     "slide_type": "slide"
    }
   },
   "source": [
    " # pythonの基本\n",
    " ## リスト、タプル、辞書、集合\n",
    " pythonでの組み込みクラスについて見てみましょう。"
   ]
  },
  {
   "cell_type": "markdown",
   "metadata": {
    "slideshow": {
     "slide_type": "subslide"
    }
   },
   "source": [
    "##リスト\n",
    "要素としてあらゆるオブジェクトを入れて、まとめて管理できる型。\n",
    "\n",
    "要素を指定して、取り出すほか、\n",
    "要素を追加削除したり、他のリストと連結、変換を行ったりすることができる。"
   ]
  },
  {
   "cell_type": "code",
   "execution_count": 2,
   "metadata": {
    "collapsed": false,
    "slideshow": {
     "slide_type": "subslide"
    }
   },
   "outputs": [
    {
     "name": "stdout",
     "output_type": "stream",
     "text": [
      "2010\n",
      "[2011, 2012, 2013, 2014, 2015]\n",
      "[2013, 2014]\n",
      "[2011, 2012, 2013, 2014, 2015, 2016]\n"
     ]
    }
   ],
   "source": [
    "years_list = [2010, 2011, 2012, 2013, 2014, 2015]\n",
    "print years_list[0]\n",
    "partial_years_list1 = years_list[1:]  # 1,2,3,4,5を取り出す\n",
    "partial_years_list2 = years_list[3:5] # 3,4を取り出す\n",
    "print partial_years_list1\n",
    "print partial_years_list2\n",
    "years_list.pop(0)\n",
    "years_list.append(2016)\n",
    "print years_list"
   ]
  },
  {
   "cell_type": "markdown",
   "metadata": {
    "slideshow": {
     "slide_type": "subslide"
    }
   },
   "source": [
    "# タプル\n",
    "リストと同じく要素としてオブジェクトをいれて、管理できる型。\n",
    "\n",
    "リストと同じく要素を取り出したり、連結をしたりすることができる。\n",
    "\n",
    "違いは一度作成したオブジェクトの変更ができず、メソッドが用意されていない。"
   ]
  },
  {
   "cell_type": "code",
   "execution_count": 3,
   "metadata": {
    "collapsed": false,
    "slideshow": {
     "slide_type": "fragment"
    }
   },
   "outputs": [
    {
     "name": "stdout",
     "output_type": "stream",
     "text": [
      "Sun\n",
      "('Sun', 'Mon', 'Tue')\n"
     ]
    }
   ],
   "source": [
    "days_tuple = (\"Sun\", \"Mon\", \"Tue\", \"Wed\", \"Thu\", \"Fri\", \"Sat\")\n",
    "print days_tuple[0]\n",
    "partial_days_tuple = days_tuple[:3]\n",
    "print partial_days_tuple"
   ]
  },
  {
   "cell_type": "markdown",
   "metadata": {
    "slideshow": {
     "slide_type": "subslide"
    }
   },
   "source": [
    "# 辞書\n",
    "辞書型はkeyとvalueと呼ばれる2つのオブジェクトから要素が構成される。\n",
    "\n",
    "keyを指定することでvalueを取り出すことができる。\n",
    "\n",
    "keyには変更できない型が指定できる。(数値、文字列、tupleなど)\n",
    "\n",
    "要素の追加、削除や、key, valueの一覧を取り出すことができる。"
   ]
  },
  {
   "cell_type": "code",
   "execution_count": 4,
   "metadata": {
    "collapsed": false,
    "slideshow": {
     "slide_type": "subslide"
    }
   },
   "outputs": [
    {
     "name": "stdout",
     "output_type": "stream",
     "text": [
      "日本\n",
      "['CA', 'JP', 'US', 'UK']\n"
     ]
    }
   ],
   "source": [
    "countries_dict = {\"JP\":u\"日本\", \"CA\":u\"カナダ\", \"UK\": u\"イギリス\"}\n",
    "print countries_dict[\"JP\"]\n",
    "countries_dict.update({\"US\": u\"アメリカ\"})\n",
    "print countries_dict.keys()"
   ]
  },
  {
   "cell_type": "markdown",
   "metadata": {
    "slideshow": {
     "slide_type": "subslide"
    }
   },
   "source": [
    "# 集合\n",
    "集合型は重複、順序なしで要素を管理する型。\n",
    "和集合や、差集合をとったり、ある要素が集合に含まれているかを調べたりすることができる。"
   ]
  },
  {
   "cell_type": "code",
   "execution_count": 5,
   "metadata": {
    "collapsed": false,
    "slideshow": {
     "slide_type": "fragment"
    }
   },
   "outputs": [
    {
     "name": "stdout",
     "output_type": "stream",
     "text": [
      "set(['grape', 'apple', 'strauberry', 'orange', 'lemon', 'banana'])\n"
     ]
    }
   ],
   "source": [
    "Fruits_set = set([\"apple\", \"orange\", \"banana\", \"lemon\", \"grape\"])\n",
    "Fruits_set.add(\"strauberry\")\n",
    "print Fruits_set"
   ]
  },
  {
   "cell_type": "markdown",
   "metadata": {
    "slideshow": {
     "slide_type": "subslide"
    }
   },
   "source": [
    "# 関数の定義\n",
    "\n",
    "関数を定義することで、繰り返しの処理を簡単に行うことができる。\n",
    "\n",
    "pythonでは、インデント(最初の空白)で関数内に入っているかを判定する。"
   ]
  },
  {
   "cell_type": "markdown",
   "metadata": {
    "slideshow": {
     "slide_type": "fragment"
    }
   },
   "source": [
    "### 条件文の書き方\n",
    "pythonでの条件文は、インデント(最初の空白によって構造を決める。)\n",
    "\n",
    "- for\n",
    "- if\n",
    "- while\n",
    "\n",
    "を扱う。(switchはない。)"
   ]
  },
  {
   "cell_type": "code",
   "execution_count": 6,
   "metadata": {
    "collapsed": false,
    "slideshow": {
     "slide_type": "subslide"
    }
   },
   "outputs": [
    {
     "data": {
      "text/plain": [
       "[1, 41, 81, 121, 161, 201, 241, 281]"
      ]
     },
     "execution_count": 6,
     "metadata": {},
     "output_type": "execute_result"
    }
   ],
   "source": [
    "divided40_and_1 = []\n",
    "for i in range(300):\n",
    "    if i % 40 == 1:\n",
    "        divided40_and_1.append(i)\n",
    "divided40_and_1"
   ]
  },
  {
   "cell_type": "code",
   "execution_count": 7,
   "metadata": {
    "collapsed": false,
    "slideshow": {
     "slide_type": "subslide"
    }
   },
   "outputs": [
    {
     "name": "stdout",
     "output_type": "stream",
     "text": [
      "father != fruit\n",
      "apple = fruit\n"
     ]
    }
   ],
   "source": [
    "Fruits_set = set([\"apple\", \"orange\", \"banana\", \"lemon\", \"grape\"])\n",
    "\n",
    "def find_fruit(item):\n",
    "    if item in Fruits_set:\n",
    "        print \"{0} = fruit\".format(item)\n",
    "    else:\n",
    "        print \"{0} != fruit\".format(item)\n",
    "\n",
    "find_fruit(\"father\")\n",
    "find_fruit(\"apple\")"
   ]
  },
  {
   "cell_type": "code",
   "execution_count": 8,
   "metadata": {
    "collapsed": false,
    "slideshow": {
     "slide_type": "subslide"
    }
   },
   "outputs": [
    {
     "name": "stdout",
     "output_type": "stream",
     "text": [
      "num = 0\n",
      "num = 1\n",
      "num = 2\n",
      "num = 3\n",
      "num = 4\n"
     ]
    }
   ],
   "source": [
    "num = 0\n",
    "while num < 5:\n",
    "  print \"num = \" + str(num)\n",
    "  num += 1"
   ]
  },
  {
   "cell_type": "markdown",
   "metadata": {
    "slideshow": {
     "slide_type": "slide"
    }
   },
   "source": [
    "# 組み込み関数\n",
    "### python自体が持っている関数のことを、組み込み関数という。\n",
    "\n",
    "range, tuple, zip, dict, format, sum, len, max, min, map, filter, reduceなど多く用意されている。"
   ]
  },
  {
   "cell_type": "code",
   "execution_count": 9,
   "metadata": {
    "collapsed": false,
    "slideshow": {
     "slide_type": "subslide"
    }
   },
   "outputs": [
    {
     "name": "stdout",
     "output_type": "stream",
     "text": [
      "[0, 1, 2, 3, 4, 5, 6, 7, 8, 9] [6, 7, 8, 9, 10, 11, 12, 13, 14, 15]\n",
      "The type of list1is <type 'list'> \n",
      " \n",
      "(0, 1, 2, 3, 4, 5, 6, 7, 8, 9) \n",
      "\n",
      "[(0, 6), (1, 7), (2, 8), (3, 9), (4, 10), (5, 11), (6, 12), (7, 13), (8, 14), (9, 15)] \n",
      "\n",
      "{0: 6, 1: 7, 2: 8, 3: 9, 4: 10, 5: 11, 6: 12, 7: 13, 8: 14, 9: 15} \n",
      "\n",
      "Output of dictionary1[0] is 6 \n",
      "\n",
      "set([0, 1, 2, 3, 4, 5, 6, 7, 8, 9])\n"
     ]
    }
   ],
   "source": [
    "# リストの作成\n",
    "list1 = range(10)\n",
    "list2 = range(6,16)\n",
    "print list1, list2 \n",
    "print \"The type of list1is %s \\n \" % type(list1)\n",
    "\n",
    "# タプルの作成\n",
    "tuple1 = tuple(list1)\n",
    "print tuple1,\"\\n\"\n",
    "\n",
    "two_multi_list1 = zip(list1, list2)\n",
    "print two_multi_list1,\"\\n\"\n",
    "\n",
    "# 辞書の作成\n",
    "dictionary1 = dict(two_multi_list1)\n",
    "print dictionary1,\"\\n\"\n",
    "print \"Output of dictionary1[0] is %s \\n\" % dictionary1[0]\n",
    "\n",
    "# 集合の作成\n",
    "set1 = set(list1)\n",
    "print set1"
   ]
  },
  {
   "cell_type": "code",
   "execution_count": 10,
   "metadata": {
    "collapsed": false,
    "slideshow": {
     "slide_type": "subslide"
    }
   },
   "outputs": [
    {
     "name": "stdout",
     "output_type": "stream",
     "text": [
      "sum of list1 is 45, length of list1 is 10\n",
      "max of list2 is 15, min of list2 is 6\n"
     ]
    }
   ],
   "source": [
    "sum_list1 = sum(list1)\n",
    "len_list1 = len(list1)\n",
    "max_list2 = max(list2)\n",
    "min_list2 = min(list2)\n",
    "print \"sum of list1 is {0}, length of list1 is {1}\".format(sum_list1, len_list1)\n",
    "print \"max of list2 is {0}, min of list2 is {1}\".format(max_list2, min_list2)"
   ]
  },
  {
   "cell_type": "code",
   "execution_count": 11,
   "metadata": {
    "collapsed": false,
    "slideshow": {
     "slide_type": "subslide"
    }
   },
   "outputs": [
    {
     "name": "stdout",
     "output_type": "stream",
     "text": [
      "converted list1:[0, 1, 2, 3, 4, 5, 6, 7, 8, 9] to double list1:[0, 2, 4, 6, 8, 10, 12, 14, 16, 18]\n"
     ]
    }
   ],
   "source": [
    "double_list1 = map(lambda x: 2*x, list1)\n",
    "print \"converted list1:{0} to double list1:{1}\".format(list1, double_list1)"
   ]
  },
  {
   "cell_type": "code",
   "execution_count": 12,
   "metadata": {
    "collapsed": false,
    "slideshow": {
     "slide_type": "fragment"
    }
   },
   "outputs": [
    {
     "name": "stdout",
     "output_type": "stream",
     "text": [
      "[4, 5, 6, 7, 8, 9]\n"
     ]
    }
   ],
   "source": [
    "filter_more3_list1 = filter(lambda x: x>3, list1)\n",
    "print filter_more3_list1"
   ]
  },
  {
   "cell_type": "code",
   "execution_count": 13,
   "metadata": {
    "collapsed": false,
    "slideshow": {
     "slide_type": "fragment"
    }
   },
   "outputs": [
    {
     "name": "stdout",
     "output_type": "stream",
     "text": [
      "105\n"
     ]
    }
   ],
   "source": [
    "sum_list2 = reduce(lambda x,y:x + y, list2)\n",
    "print sum_list2"
   ]
  },
  {
   "cell_type": "markdown",
   "metadata": {
    "slideshow": {
     "slide_type": "slide"
    }
   },
   "source": [
    "# Numpy\n",
    "Numerical pythonの略で、数値計算用ライブラリ。\n",
    "\n",
    "- 内部でCによるインプリメントが施されているため、高速で計算処理を行うことができる。(数学的演算が多種多様)\n",
    "- Numpy.ndarrayというndarray型を使い、多次元配列を扱うことができる。\n",
    "- 配列ベースでデータをやりとりできる。"
   ]
  },
  {
   "cell_type": "markdown",
   "metadata": {
    "slideshow": {
     "slide_type": "subslide"
    }
   },
   "source": [
    "さて、ここでまずnumpy.randomを使って乱数を作成してみましょう。\n",
    "\n",
    "(from numpy.random import *でインポートした。)"
   ]
  },
  {
   "cell_type": "code",
   "execution_count": 14,
   "metadata": {
    "collapsed": false,
    "slideshow": {
     "slide_type": "fragment"
    }
   },
   "outputs": [
    {
     "name": "stdout",
     "output_type": "stream",
     "text": [
      "[ 0.50210383  0.58773108  0.24262249  0.48675034  0.12216826  0.54571213\n",
      "  0.67866345  0.86904645  0.09359963  0.0175831   0.42547682  0.55386375\n",
      "  0.74313655  0.26649235  0.87460878  0.70475664  0.94931106  0.35947264\n",
      "  0.19649566  0.57853857]\n",
      "<type 'numpy.ndarray'>\n"
     ]
    }
   ],
   "source": [
    "Random_datum = rand(20)\n",
    "print Random_datum\n",
    "print type(Random_datum)"
   ]
  },
  {
   "cell_type": "markdown",
   "metadata": {
    "slideshow": {
     "slide_type": "subslide"
    }
   },
   "source": [
    "### 2000年から2016年までのランダムな年が入った20個の配列を作る。 "
   ]
  },
  {
   "cell_type": "code",
   "execution_count": 15,
   "metadata": {
    "collapsed": false,
    "slideshow": {
     "slide_type": "fragment"
    }
   },
   "outputs": [
    {
     "data": {
      "text/plain": [
       "array([2001, 2004, 2008, 2008, 2006, 2009, 2000, 2008, 2015, 2000, 2008,\n",
       "       2002, 2002, 2002, 2006, 2004, 2011, 2006, 2003, 2004])"
      ]
     },
     "execution_count": 15,
     "metadata": {},
     "output_type": "execute_result"
    }
   ],
   "source": [
    "randint(2000, 2016, 20)"
   ]
  },
  {
   "cell_type": "markdown",
   "metadata": {
    "slideshow": {
     "slide_type": "subslide"
    }
   },
   "source": [
    "### 整数0~9が入った7×7の行列を作る。"
   ]
  },
  {
   "cell_type": "code",
   "execution_count": 16,
   "metadata": {
    "collapsed": false,
    "slideshow": {
     "slide_type": "fragment"
    }
   },
   "outputs": [
    {
     "name": "stdout",
     "output_type": "stream",
     "text": [
      "[[5 6 1 0 5 5 1]\n",
      " [9 8 6 7 8 6 0]\n",
      " [7 7 2 8 9 9 7]\n",
      " [4 1 2 7 6 1 1]\n",
      " [4 8 1 6 3 4 9]\n",
      " [3 2 5 7 3 0 8]\n",
      " [1 1 9 8 5 4 2]]\n",
      "<type 'numpy.ndarray'>\n"
     ]
    }
   ],
   "source": [
    "matrix77 = randint(0,10,(7,7))\n",
    "print matrix77\n",
    "print type(matrix77)"
   ]
  },
  {
   "cell_type": "markdown",
   "metadata": {
    "slideshow": {
     "slide_type": "slide"
    }
   },
   "source": [
    "# Numpyを使ったデータ加工の例"
   ]
  },
  {
   "cell_type": "markdown",
   "metadata": {
    "collapsed": true,
    "slideshow": {
     "slide_type": "slide"
    }
   },
   "source": [
    "## ものの測定データ\n",
    "得られた1000個のデータが正規分布に従っていると仮定して、計算をしてみましょう。"
   ]
  },
  {
   "cell_type": "code",
   "execution_count": 17,
   "metadata": {
    "collapsed": false,
    "scrolled": true,
    "slideshow": {
     "slide_type": "subslide"
    }
   },
   "outputs": [],
   "source": [
    "# 平均30,分散10の正規分布に従って、randomな数を1000個作成。\n",
    "normal_datum = normal(30,10, 1000)"
   ]
  },
  {
   "cell_type": "code",
   "execution_count": 18,
   "metadata": {
    "collapsed": false,
    "slideshow": {
     "slide_type": "subslide"
    }
   },
   "outputs": [
    {
     "data": {
      "text/plain": [
       "(array([  1.,   0.,   0.,   0.,   0.,   0.,   0.,   0.,   1.,   1.,   3.,\n",
       "          4.,  12.,  13.,  16.,  21.,  20.,  39.,  41.,  36.,  40.,  50.,\n",
       "         67.,  55.,  53.,  57.,  54.,  64.,  59.,  48.,  59.,  34.,  33.,\n",
       "         30.,  21.,  20.,  14.,  11.,   6.,   7.,   4.,   2.,   2.,   0.,\n",
       "          0.,   0.,   1.,   0.,   0.,   1.]),\n",
       " array([-10.68237352,  -9.09551878,  -7.50866404,  -5.9218093 ,\n",
       "         -4.33495456,  -2.74809983,  -1.16124509,   0.42560965,\n",
       "          2.01246439,   3.59931912,   5.18617386,   6.7730286 ,\n",
       "          8.35988334,   9.94673808,  11.53359281,  13.12044755,\n",
       "         14.70730229,  16.29415703,  17.88101177,  19.4678665 ,\n",
       "         21.05472124,  22.64157598,  24.22843072,  25.81528545,\n",
       "         27.40214019,  28.98899493,  30.57584967,  32.16270441,\n",
       "         33.74955914,  35.33641388,  36.92326862,  38.51012336,\n",
       "         40.0969781 ,  41.68383283,  43.27068757,  44.85754231,\n",
       "         46.44439705,  48.03125178,  49.61810652,  51.20496126,\n",
       "         52.791816  ,  54.37867074,  55.96552547,  57.55238021,\n",
       "         59.13923495,  60.72608969,  62.31294442,  63.89979916,\n",
       "         65.4866539 ,  67.07350864,  68.66036338]),\n",
       " <a list of 50 Patch objects>)"
      ]
     },
     "execution_count": 18,
     "metadata": {},
     "output_type": "execute_result"
    },
    {
     "data": {
      "image/png": "[encoded data removed]",
      "text/plain": [
       "<matplotlib.figure.Figure at 0x11139ac50>"
      ]
     },
     "metadata": {},
     "output_type": "display_data"
    }
   ],
   "source": [
    "plt.hist(normal_datum, bins=50, alpha=0.6)\n",
    "#plt.show()"
   ]
  },
  {
   "cell_type": "markdown",
   "metadata": {
    "slideshow": {
     "slide_type": "subslide"
    }
   },
   "source": [
    "そこで平均の推定量は次のように計算される。\n",
    "\n",
    "$$ \\bar{x} = \\hat{\\mu} = \\frac{1}{n} \\sum x_i $$\n",
    "\n",
    "同様に標準偏差の推定量は次のように計算される。\n",
    "\n",
    "$$ \\hat{\\sigma} = \\frac{\\sum (x_i - \\bar{x})^2}{n -1} $$\n",
    "\n",
    "推定量の標準偏差について、\n",
    "$$ \\sigma(\\bar{x}) = \\frac{\\sigma}{\\sqrt{n}} $$\n",
    "が言えて、\n",
    "$$ \\sigma(\\bar{x}) = \\frac{\\hat{\\sigma}}{\\sqrt{n}} $$\n",
    "と計算して求めることができる。"
   ]
  },
  {
   "cell_type": "code",
   "execution_count": 19,
   "metadata": {
    "collapsed": false,
    "slideshow": {
     "slide_type": "subslide"
    }
   },
   "outputs": [
    {
     "name": "stdout",
     "output_type": "stream",
     "text": [
      "Mean=29.681, STD=10.13732,Mean_STD=2.61744\n",
      "よって平均値の推定は、29.681±2.61744, 分散の推定値は10.13732 \n",
      "真の値である平均値30,分散10とconsistent\n"
     ]
    }
   ],
   "source": [
    "mean = round(np.mean(normal_datum,dtype=np.float32),3)\n",
    "std = round(np.std(normal_datum, ddof=1,dtype=np.float32), 5)\n",
    "mean_std = round(std/math.sqrt(15), 5)\n",
    "print \"Mean={0}, STD={1},Mean_STD={2}\".format(mean, std, mean_std)\n",
    "print \"よって平均値の推定は、{0}±{2}, 分散の推定値は{1} \\n真の値である平均値30,分散10とconsistent\".format(mean, std, mean_std)"
   ]
  },
  {
   "cell_type": "markdown",
   "metadata": {
    "slideshow": {
     "slide_type": "slide"
    }
   },
   "source": [
    "# Pandasを使ったData加工\n",
    "\n",
    "<font color='red'>DataFrame</font>と呼ばれる2次元表型のデータ構造オブジェクト\n",
    "\n",
    "と、\n",
    "\n",
    "<font color='red'>Series</font>と呼ばれる時系列を扱うオブジェクト\n",
    "\n",
    "が主に使われる。"
   ]
  },
  {
   "cell_type": "markdown",
   "metadata": {
    "slideshow": {
     "slide_type": "slide"
    }
   },
   "source": [
    "## DataFrameの接続\n",
    "pandasのdataframeでは、SQL(リレーショナルデータベース)と同じく、tableのmargeを行うことができる。"
   ]
  },
  {
   "cell_type": "code",
   "execution_count": 20,
   "metadata": {
    "collapsed": false,
    "slideshow": {
     "slide_type": "subslide"
    }
   },
   "outputs": [
    {
     "data": {
      "text/html": [
       "<div style=\"max-height:1000px;max-width:1500px;overflow:auto;\">\n",
       "<table border=\"1\" class=\"dataframe\">\n",
       "  <thead>\n",
       "    <tr style=\"text-align: right;\">\n",
       "      <th></th>\n",
       "      <th>key1</th>\n",
       "      <th>key2</th>\n",
       "      <th>lval</th>\n",
       "    </tr>\n",
       "  </thead>\n",
       "  <tbody>\n",
       "    <tr>\n",
       "      <th>0</th>\n",
       "      <td>   Japan</td>\n",
       "      <td> Shinji</td>\n",
       "      <td> 1</td>\n",
       "    </tr>\n",
       "    <tr>\n",
       "      <th>1</th>\n",
       "      <td>   Japan</td>\n",
       "      <td>  Asuka</td>\n",
       "      <td> 2</td>\n",
       "    </tr>\n",
       "    <tr>\n",
       "      <th>2</th>\n",
       "      <td> America</td>\n",
       "      <td>    Bob</td>\n",
       "      <td> 3</td>\n",
       "    </tr>\n",
       "  </tbody>\n",
       "</table>\n",
       "</div>"
      ],
      "text/plain": [
       "      key1    key2  lval\n",
       "0    Japan  Shinji     1\n",
       "1    Japan   Asuka     2\n",
       "2  America     Bob     3"
      ]
     },
     "execution_count": 20,
     "metadata": {},
     "output_type": "execute_result"
    }
   ],
   "source": [
    "left = pd.DataFrame({'key1': ['Japan', 'Japan', 'America'],\n",
    "                  'key2': ['Shinji', 'Asuka', 'Bob'],\n",
    "                  'lval': [1, 2, 3]})\n",
    "left"
   ]
  },
  {
   "cell_type": "code",
   "execution_count": 21,
   "metadata": {
    "collapsed": false,
    "slideshow": {
     "slide_type": "subslide"
    }
   },
   "outputs": [
    {
     "data": {
      "text/html": [
       "<div style=\"max-height:1000px;max-width:1500px;overflow:auto;\">\n",
       "<table border=\"1\" class=\"dataframe\">\n",
       "  <thead>\n",
       "    <tr style=\"text-align: right;\">\n",
       "      <th></th>\n",
       "      <th>key1</th>\n",
       "      <th>key2</th>\n",
       "      <th>rval</th>\n",
       "    </tr>\n",
       "  </thead>\n",
       "  <tbody>\n",
       "    <tr>\n",
       "      <th>0</th>\n",
       "      <td>   Japan</td>\n",
       "      <td> Shinji</td>\n",
       "      <td> 400</td>\n",
       "    </tr>\n",
       "    <tr>\n",
       "      <th>1</th>\n",
       "      <td>   Japan</td>\n",
       "      <td>  Asuka</td>\n",
       "      <td> 500</td>\n",
       "    </tr>\n",
       "    <tr>\n",
       "      <th>2</th>\n",
       "      <td> America</td>\n",
       "      <td>  Alice</td>\n",
       "      <td> 600</td>\n",
       "    </tr>\n",
       "    <tr>\n",
       "      <th>3</th>\n",
       "      <td> America</td>\n",
       "      <td>    Bob</td>\n",
       "      <td> 700</td>\n",
       "    </tr>\n",
       "  </tbody>\n",
       "</table>\n",
       "</div>"
      ],
      "text/plain": [
       "      key1    key2  rval\n",
       "0    Japan  Shinji   400\n",
       "1    Japan   Asuka   500\n",
       "2  America   Alice   600\n",
       "3  America     Bob   700"
      ]
     },
     "execution_count": 21,
     "metadata": {},
     "output_type": "execute_result"
    }
   ],
   "source": [
    "right = pd.DataFrame({'key1': ['Japan', 'Japan', 'America', 'America'],\n",
    "                   'key2': ['Shinji', 'Asuka', 'Alice', 'Bob'],\n",
    "                   'rval': [400, 500, 600, 700]})\n",
    "right"
   ]
  },
  {
   "cell_type": "code",
   "execution_count": 22,
   "metadata": {
    "collapsed": false,
    "slideshow": {
     "slide_type": "subslide"
    }
   },
   "outputs": [
    {
     "data": {
      "text/html": [
       "<div style=\"max-height:1000px;max-width:1500px;overflow:auto;\">\n",
       "<table border=\"1\" class=\"dataframe\">\n",
       "  <thead>\n",
       "    <tr style=\"text-align: right;\">\n",
       "      <th></th>\n",
       "      <th>key1</th>\n",
       "      <th>key2</th>\n",
       "      <th>lval</th>\n",
       "      <th>rval</th>\n",
       "    </tr>\n",
       "  </thead>\n",
       "  <tbody>\n",
       "    <tr>\n",
       "      <th>0</th>\n",
       "      <td>   Japan</td>\n",
       "      <td> Shinji</td>\n",
       "      <td>  1</td>\n",
       "      <td> 400</td>\n",
       "    </tr>\n",
       "    <tr>\n",
       "      <th>1</th>\n",
       "      <td>   Japan</td>\n",
       "      <td>  Asuka</td>\n",
       "      <td>  2</td>\n",
       "      <td> 500</td>\n",
       "    </tr>\n",
       "    <tr>\n",
       "      <th>2</th>\n",
       "      <td> America</td>\n",
       "      <td>    Bob</td>\n",
       "      <td>  3</td>\n",
       "      <td> 700</td>\n",
       "    </tr>\n",
       "    <tr>\n",
       "      <th>3</th>\n",
       "      <td> America</td>\n",
       "      <td>  Alice</td>\n",
       "      <td>NaN</td>\n",
       "      <td> 600</td>\n",
       "    </tr>\n",
       "  </tbody>\n",
       "</table>\n",
       "</div>"
      ],
      "text/plain": [
       "      key1    key2  lval  rval\n",
       "0    Japan  Shinji     1   400\n",
       "1    Japan   Asuka     2   500\n",
       "2  America     Bob     3   700\n",
       "3  America   Alice   NaN   600"
      ]
     },
     "execution_count": 22,
     "metadata": {},
     "output_type": "execute_result"
    }
   ],
   "source": [
    "OuterJoinDF = pd.merge(left, right, how='outer')\n",
    "OuterJoinDF"
   ]
  },
  {
   "cell_type": "code",
   "execution_count": 23,
   "metadata": {
    "collapsed": false,
    "slideshow": {
     "slide_type": "subslide"
    }
   },
   "outputs": [
    {
     "data": {
      "text/html": [
       "<div style=\"max-height:1000px;max-width:1500px;overflow:auto;\">\n",
       "<table border=\"1\" class=\"dataframe\">\n",
       "  <thead>\n",
       "    <tr style=\"text-align: right;\">\n",
       "      <th></th>\n",
       "      <th>key1</th>\n",
       "      <th>key2</th>\n",
       "      <th>lval</th>\n",
       "      <th>rval</th>\n",
       "    </tr>\n",
       "  </thead>\n",
       "  <tbody>\n",
       "    <tr>\n",
       "      <th>0</th>\n",
       "      <td>   Japan</td>\n",
       "      <td> Shinji</td>\n",
       "      <td> 1</td>\n",
       "      <td> 400</td>\n",
       "    </tr>\n",
       "    <tr>\n",
       "      <th>1</th>\n",
       "      <td>   Japan</td>\n",
       "      <td>  Asuka</td>\n",
       "      <td> 2</td>\n",
       "      <td> 500</td>\n",
       "    </tr>\n",
       "    <tr>\n",
       "      <th>2</th>\n",
       "      <td> America</td>\n",
       "      <td>    Bob</td>\n",
       "      <td> 3</td>\n",
       "      <td> 700</td>\n",
       "    </tr>\n",
       "  </tbody>\n",
       "</table>\n",
       "</div>"
      ],
      "text/plain": [
       "      key1    key2  lval  rval\n",
       "0    Japan  Shinji     1   400\n",
       "1    Japan   Asuka     2   500\n",
       "2  America     Bob     3   700"
      ]
     },
     "execution_count": 23,
     "metadata": {},
     "output_type": "execute_result"
    }
   ],
   "source": [
    "InnerJoinDF = pd.merge(left, right, how='inner')\n",
    "InnerJoinDF"
   ]
  },
  {
   "cell_type": "code",
   "execution_count": 24,
   "metadata": {
    "collapsed": false,
    "slideshow": {
     "slide_type": "subslide"
    }
   },
   "outputs": [
    {
     "name": "stdout",
     "output_type": "stream",
     "text": [
      "2015-05-24    1.013304\n",
      "2015-05-25   -0.225646\n",
      "2015-05-26    0.522791\n",
      "2015-05-27   -0.055503\n",
      "2015-05-28    0.074971\n",
      "2015-05-29    0.895310\n",
      "2015-05-30   -0.672912\n",
      "2015-05-31   -0.828359\n",
      "2015-06-01    1.939652\n",
      "2015-06-02   -0.315643\n",
      "2015-06-03   -1.122540\n",
      "2015-06-04   -1.812359\n",
      "2015-06-05    0.682101\n",
      "2015-06-06    0.481820\n",
      "2015-06-07   -1.888776\n",
      "...\n",
      "2016-06-12    1.217181\n",
      "2016-06-13    1.496310\n",
      "2016-06-14    2.022289\n",
      "2016-06-15   -0.195035\n",
      "2016-06-16    0.007667\n",
      "2016-06-17    1.077736\n",
      "2016-06-18   -0.128187\n",
      "2016-06-19    0.397077\n",
      "2016-06-20   -0.714199\n",
      "2016-06-21    0.101783\n",
      "2016-06-22   -0.271566\n",
      "2016-06-23    0.224525\n",
      "2016-06-24    0.843718\n",
      "2016-06-25    0.240043\n",
      "2016-06-26    0.249862\n",
      "Freq: D, Length: 400\n"
     ]
    },
    {
     "data": {
      "text/plain": [
       "<matplotlib.text.Text at 0x113efaa50>"
      ]
     },
     "execution_count": 24,
     "metadata": {},
     "output_type": "execute_result"
    },
    {
     "data": {
      "image/png": "[encoded data removed]",
      "text/plain": [
       "<matplotlib.figure.Figure at 0x113e2d150>"
      ]
     },
     "metadata": {},
     "output_type": "display_data"
    }
   ],
   "source": [
    "time_series = pd.Series(randn(400), index=pd.date_range('5/24/2015', periods=400))\n",
    "print time_series\n",
    "time_series_cum = time_series.cumsum()\n",
    "time_series_cum.plot()\n",
    "plt.title(\"Time series data\")"
   ]
  },
  {
   "cell_type": "code",
   "execution_count": 25,
   "metadata": {
    "collapsed": false,
    "slideshow": {
     "slide_type": "subslide"
    }
   },
   "outputs": [
    {
     "name": "stdout",
     "output_type": "stream",
     "text": [
      "          a         b         c         d         e\n",
      "0  0.938561  0.856733  0.284404  0.375991  0.664792\n",
      "1  0.726336  0.536399  0.928436  0.118447  0.349633\n",
      "2  0.250171  0.633586  0.356628  0.732048  0.643241\n",
      "3  0.350309  0.658359  0.451983  0.231491  0.991700\n",
      "4  0.446681  0.709195  0.069522  0.938172  0.321915\n",
      "5  0.612559  0.118279  0.212633  0.953401  0.687659\n",
      "6  0.004280  0.114359  0.509160  0.218073  0.851377\n",
      "7  0.614764  0.409550  0.215166  0.705955  0.885504\n"
     ]
    },
    {
     "data": {
      "text/plain": [
       "<matplotlib.text.Text at 0x114012550>"
      ]
     },
     "execution_count": 25,
     "metadata": {},
     "output_type": "execute_result"
    },
    {
     "data": {
      "image/png": "[encoded data removed]",
      "text/plain": [
       "<matplotlib.figure.Figure at 0x1140f3150>"
      ]
     },
     "metadata": {},
     "output_type": "display_data"
    }
   ],
   "source": [
    "df1 = pd.DataFrame(rand(8, 5), columns=['a', 'b', 'c', 'd', 'e'])\n",
    "print df1\n",
    "df1.plot(kind='bar', alpha=0.6)\n",
    "plt.title(\"Bar data\")"
   ]
  },
  {
   "cell_type": "code",
   "execution_count": 26,
   "metadata": {
    "collapsed": false,
    "slideshow": {
     "slide_type": "subslide"
    }
   },
   "outputs": [
    {
     "data": {
      "text/plain": [
       "<matplotlib.text.Text at 0x1142e1110>"
      ]
     },
     "execution_count": 26,
     "metadata": {},
     "output_type": "execute_result"
    },
    {
     "data": {
      "image/png": "[encoded data removed]",
      "text/plain": [
       "<matplotlib.figure.Figure at 0x1142ae450>"
      ]
     },
     "metadata": {},
     "output_type": "display_data"
    }
   ],
   "source": [
    "df = pd.DataFrame(rand(50, 6), columns=['a', 'b', 'c', 'd', 'e', 'f'])\n",
    "ax1 = df.plot(kind='scatter', x='a', y='b',color='Blue', label='Group 1')\n",
    "ax2 = df.plot(kind='scatter', x='c', y='d', color='Yellow', label='Group 2',ax=ax1)\n",
    "df.plot(kind='scatter', x='e', y='f', color='Red', label='Group 3', ax=ax2)\n",
    "plt.title(\"Scatter plot data\")\n",
    "plt.xlabel('X axis')\n",
    "plt.ylabel('Y axis')"
   ]
  },
  {
   "cell_type": "markdown",
   "metadata": {
    "slideshow": {
     "slide_type": "slide"
    }
   },
   "source": [
    "# dataの読み書き\n",
    "### pandasから読み書きする方法が分かりやすい。\n",
    "csv fileとtsv fileで使うと互換性がよい。"
   ]
  },
  {
   "cell_type": "markdown",
   "metadata": {
    "slideshow": {
     "slide_type": "subslide"
    }
   },
   "source": [
    "### データを書き込み"
   ]
  },
  {
   "cell_type": "code",
   "execution_count": 27,
   "metadata": {
    "collapsed": false,
    "slideshow": {
     "slide_type": "fragment"
    }
   },
   "outputs": [],
   "source": [
    "df1.to_csv('bar_data.csv', index=0)\n",
    "df1.to_csv( 'bar_data.tsv', sep='\\t', index=0)"
   ]
  },
  {
   "cell_type": "markdown",
   "metadata": {
    "slideshow": {
     "slide_type": "subslide"
    }
   },
   "source": [
    "### データの読み込み"
   ]
  },
  {
   "cell_type": "code",
   "execution_count": 28,
   "metadata": {
    "collapsed": false,
    "slideshow": {
     "slide_type": "fragment"
    }
   },
   "outputs": [
    {
     "data": {
      "text/html": [
       "<div style=\"max-height:1000px;max-width:1500px;overflow:auto;\">\n",
       "<table border=\"1\" class=\"dataframe\">\n",
       "  <thead>\n",
       "    <tr style=\"text-align: right;\">\n",
       "      <th></th>\n",
       "      <th>a</th>\n",
       "      <th>b</th>\n",
       "      <th>c</th>\n",
       "      <th>d</th>\n",
       "      <th>e</th>\n",
       "    </tr>\n",
       "  </thead>\n",
       "  <tbody>\n",
       "    <tr>\n",
       "      <th>0</th>\n",
       "      <td> 0.938561</td>\n",
       "      <td> 0.856733</td>\n",
       "      <td> 0.284404</td>\n",
       "      <td> 0.375991</td>\n",
       "      <td> 0.664792</td>\n",
       "    </tr>\n",
       "    <tr>\n",
       "      <th>1</th>\n",
       "      <td> 0.726336</td>\n",
       "      <td> 0.536399</td>\n",
       "      <td> 0.928436</td>\n",
       "      <td> 0.118447</td>\n",
       "      <td> 0.349633</td>\n",
       "    </tr>\n",
       "    <tr>\n",
       "      <th>2</th>\n",
       "      <td> 0.250171</td>\n",
       "      <td> 0.633586</td>\n",
       "      <td> 0.356628</td>\n",
       "      <td> 0.732048</td>\n",
       "      <td> 0.643241</td>\n",
       "    </tr>\n",
       "    <tr>\n",
       "      <th>3</th>\n",
       "      <td> 0.350309</td>\n",
       "      <td> 0.658359</td>\n",
       "      <td> 0.451983</td>\n",
       "      <td> 0.231491</td>\n",
       "      <td> 0.991700</td>\n",
       "    </tr>\n",
       "    <tr>\n",
       "      <th>4</th>\n",
       "      <td> 0.446681</td>\n",
       "      <td> 0.709195</td>\n",
       "      <td> 0.069522</td>\n",
       "      <td> 0.938172</td>\n",
       "      <td> 0.321915</td>\n",
       "    </tr>\n",
       "    <tr>\n",
       "      <th>5</th>\n",
       "      <td> 0.612559</td>\n",
       "      <td> 0.118279</td>\n",
       "      <td> 0.212633</td>\n",
       "      <td> 0.953401</td>\n",
       "      <td> 0.687659</td>\n",
       "    </tr>\n",
       "    <tr>\n",
       "      <th>6</th>\n",
       "      <td> 0.004280</td>\n",
       "      <td> 0.114359</td>\n",
       "      <td> 0.509160</td>\n",
       "      <td> 0.218073</td>\n",
       "      <td> 0.851377</td>\n",
       "    </tr>\n",
       "    <tr>\n",
       "      <th>7</th>\n",
       "      <td> 0.614764</td>\n",
       "      <td> 0.409550</td>\n",
       "      <td> 0.215166</td>\n",
       "      <td> 0.705955</td>\n",
       "      <td> 0.885504</td>\n",
       "    </tr>\n",
       "  </tbody>\n",
       "</table>\n",
       "</div>"
      ],
      "text/plain": [
       "          a         b         c         d         e\n",
       "0  0.938561  0.856733  0.284404  0.375991  0.664792\n",
       "1  0.726336  0.536399  0.928436  0.118447  0.349633\n",
       "2  0.250171  0.633586  0.356628  0.732048  0.643241\n",
       "3  0.350309  0.658359  0.451983  0.231491  0.991700\n",
       "4  0.446681  0.709195  0.069522  0.938172  0.321915\n",
       "5  0.612559  0.118279  0.212633  0.953401  0.687659\n",
       "6  0.004280  0.114359  0.509160  0.218073  0.851377\n",
       "7  0.614764  0.409550  0.215166  0.705955  0.885504"
      ]
     },
     "execution_count": 28,
     "metadata": {},
     "output_type": "execute_result"
    }
   ],
   "source": [
    "df1 = pd.read_csv('bar_data.csv')\n",
    "df1"
   ]
  },
  {
   "cell_type": "markdown",
   "metadata": {
    "slideshow": {
     "slide_type": "slide"
    }
   },
   "source": [
    "これでこの回は終わります。\n",
    "それでは後半機械学習を実践してみましょう。"
   ]
  }
 ],
 "metadata": {
  "celltoolbar": "Slideshow",
  "kernelspec": {
   "display_name": "Python 2",
   "language": "python",
   "name": "python2"
  },
  "language_info": {
   "codemirror_mode": {
    "name": "ipython",
    "version": 2
   },
   "file_extension": ".py",
   "mimetype": "text/x-python",
   "name": "python",
   "nbconvert_exporter": "python",
   "pygments_lexer": "ipython2",
   "version": "2.7.9"
  }
 },
 "nbformat": 4,
 "nbformat_minor": 0
}
