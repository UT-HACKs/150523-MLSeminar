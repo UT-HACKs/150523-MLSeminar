{
 "cells": [
  {
   "cell_type": "markdown",
   "metadata": {
    "slideshow": {
     "slide_type": "slide"
    }
   },
   "source": [
    "# 機械学習講習会 \n",
    "#pythonにおける基本的な文法\n",
    "## @ 虎ノ門\n",
    "\n",
    "#### 中西均\n",
    "\n",
    "#### 2015/ 5/ 23 (Sat)"
   ]
  },
  {
   "cell_type": "markdown",
   "metadata": {
    "slideshow": {
     "slide_type": "slide"
    }
   },
   "source": [
    "# はじめに\n",
    "\n",
    "## この回では、pythonの基本的な文法を紹介します。\n",
    "##### pythonによる機械学習の実装に向けたデータ加工、データビジュアライゼーションを中心に扱います。"
   ]
  },
  {
   "cell_type": "markdown",
   "metadata": {
    "slideshow": {
     "slide_type": "slide"
    }
   },
   "source": [
    "# 目次\n",
    "## Pythonを使ったデータ解析\n",
    "## パッケージ、モジュールの読み込み\n",
    "## 基本的な文法: 型、条件文、関数\n",
    "## Dataの加工処理とVisualization: Numpy,  PandasとMatplotlib\n",
    "## Fileの読み書き"
   ]
  },
  {
   "cell_type": "markdown",
   "metadata": {
    "slideshow": {
     "slide_type": "slide"
    }
   },
   "source": [
    "# Pythonを使ったデータ解析\n",
    "\n",
    "Pythonを使ってデータ解析を行うことを考えます。\n",
    "\n",
    "一般に次の順番で解析が進行します。\n",
    "\n",
    "- データの取得(API, webからの取得, csv file, SQL)\n",
    "- データの加工その1( <font color='red'>numpy</font> や <font color='red'>pandas</font> などを使った行列計算)\n",
    "- 機械学習、データ分析(今回は <font color='red'>scikit learn</font> を用います)\n",
    "- データの加工その2( <font color='red'>numpy</font> や <font color='red'>pandas</font> などを使って整形)\n",
    "- データの可視化( <font color='red'>matplotlib</font> を使って表現)\n",
    "- データの保存\n"
   ]
  },
  {
   "cell_type": "markdown",
   "metadata": {
    "slideshow": {
     "slide_type": "slide"
    }
   },
   "source": [
    "## それではcodeを書いていきましょう。"
   ]
  },
  {
   "cell_type": "markdown",
   "metadata": {
    "slideshow": {
     "slide_type": "slide"
    }
   },
   "source": [
    "# パッケージ、モジュールの読み込み\n",
    "\n",
    "pythonでのパッケージ、モジュールの読み込み方法は、\n",
    "\n",
    "import A\n",
    "\n",
    "import A.B\n",
    "\n",
    "import A as B\n",
    "\n",
    "from B import A\n",
    "\n",
    "のようにして行うことができる。\n",
    "これらの表記の違いはモジュールインポート後のアクセス方法の違いに関わってくる。"
   ]
  },
  {
   "cell_type": "code",
   "execution_count": 1,
   "metadata": {
    "collapsed": false,
    "slideshow": {
     "slide_type": "subslide"
    }
   },
   "outputs": [],
   "source": [
    "%matplotlib inline\n",
    "import math\n",
    "import numpy as np\n",
    "from numpy.random import *\n",
    "import pandas as pd\n",
    "import matplotlib.pyplot as plt  # pylabの代わりにmatplotlibのpyplotを使う。\n",
    "import random as rd"
   ]
  },
  {
   "cell_type": "markdown",
   "metadata": {
    "slideshow": {
     "slide_type": "slide"
    }
   },
   "source": [
    " # pythonの基本\n",
    " ## リスト、タプル、辞書、集合\n",
    " pythonでの組み込みクラスについて見てみましょう。"
   ]
  },
  {
   "cell_type": "markdown",
   "metadata": {
    "slideshow": {
     "slide_type": "subslide"
    }
   },
   "source": [
    "##リスト\n",
    "要素としてあらゆるオブジェクトを入れて、まとめて管理できる型。\n",
    "\n",
    "要素を指定して、取り出すほか、\n",
    "要素を追加削除したり、他のリストと連結、変換を行ったりすることができる。"
   ]
  },
  {
   "cell_type": "code",
   "execution_count": 2,
   "metadata": {
    "collapsed": false,
    "slideshow": {
     "slide_type": "subslide"
    }
   },
   "outputs": [
    {
     "name": "stdout",
     "output_type": "stream",
     "text": [
      "2010\n",
      "[2011, 2012, 2013, 2014, 2015]\n",
      "[2013, 2014]\n",
      "[2011, 2012, 2013, 2014, 2015, 2016]\n"
     ]
    }
   ],
   "source": [
    "years_list = [2010, 2011, 2012, 2013, 2014, 2015]\n",
    "print years_list[0]\n",
    "partial_years_list1 = years_list[1:]  # 1,2,3,4,5を取り出す\n",
    "partial_years_list2 = years_list[3:5] # 3,4を取り出す\n",
    "print partial_years_list1\n",
    "print partial_years_list2\n",
    "years_list.pop(0)\n",
    "years_list.append(2016)\n",
    "print years_list"
   ]
  },
  {
   "cell_type": "markdown",
   "metadata": {
    "slideshow": {
     "slide_type": "subslide"
    }
   },
   "source": [
    "# タプル\n",
    "リストと同じく要素としてオブジェクトをいれて、管理できる型。\n",
    "\n",
    "リストと同じく要素を取り出したり、連結をしたりすることができる。\n",
    "\n",
    "違いは一度作成したオブジェクトの変更ができず、メソッドが用意されていない。"
   ]
  },
  {
   "cell_type": "code",
   "execution_count": 3,
   "metadata": {
    "collapsed": false,
    "slideshow": {
     "slide_type": "fragment"
    }
   },
   "outputs": [
    {
     "name": "stdout",
     "output_type": "stream",
     "text": [
      "Sun\n",
      "('Sun', 'Mon', 'Tue')\n"
     ]
    }
   ],
   "source": [
    "days_tuple = (\"Sun\", \"Mon\", \"Tue\", \"Wed\", \"Thu\", \"Fri\", \"Sat\")\n",
    "print days_tuple[0]\n",
    "partial_days_tuple = days_tuple[:3]\n",
    "print partial_days_tuple"
   ]
  },
  {
   "cell_type": "markdown",
   "metadata": {
    "slideshow": {
     "slide_type": "subslide"
    }
   },
   "source": [
    "# 辞書\n",
    "辞書型はkeyとvalueと呼ばれる2つのオブジェクトから要素が構成される。\n",
    "\n",
    "keyを指定することでvalueを取り出すことができる。\n",
    "\n",
    "keyには変更できない型が指定できる。(数値、文字列、tupleなど)\n",
    "\n",
    "要素の追加、削除や、key, valueの一覧を取り出すことができる。"
   ]
  },
  {
   "cell_type": "code",
   "execution_count": 4,
   "metadata": {
    "collapsed": false,
    "slideshow": {
     "slide_type": "subslide"
    }
   },
   "outputs": [
    {
     "name": "stdout",
     "output_type": "stream",
     "text": [
      "日本\n",
      "['CA', 'JP', 'US', 'UK']\n"
     ]
    }
   ],
   "source": [
    "countries_dict = {\"JP\":u\"日本\", \"CA\":u\"カナダ\", \"UK\": u\"イギリス\"}\n",
    "print countries_dict[\"JP\"]\n",
    "countries_dict.update({\"US\": u\"アメリカ\"})\n",
    "print countries_dict.keys()"
   ]
  },
  {
   "cell_type": "markdown",
   "metadata": {
    "slideshow": {
     "slide_type": "subslide"
    }
   },
   "source": [
    "# 集合\n",
    "集合型は重複、順序なしで要素を管理する型。\n",
    "和集合や、差集合をとったり、ある要素が集合に含まれているかを調べたりすることができる。"
   ]
  },
  {
   "cell_type": "code",
   "execution_count": 5,
   "metadata": {
    "collapsed": false,
    "slideshow": {
     "slide_type": "fragment"
    }
   },
   "outputs": [
    {
     "name": "stdout",
     "output_type": "stream",
     "text": [
      "set(['grape', 'apple', 'strauberry', 'orange', 'lemon', 'banana'])\n"
     ]
    }
   ],
   "source": [
    "Fruits_set = set([\"apple\", \"orange\", \"banana\", \"lemon\", \"grape\"])\n",
    "Fruits_set.add(\"strauberry\")\n",
    "print Fruits_set"
   ]
  },
  {
   "cell_type": "markdown",
   "metadata": {
    "slideshow": {
     "slide_type": "slide"
    }
   },
   "source": [
    "# 組み込み関数\n",
    "### python自体が持っている関数のことを、組み込み関数という。\n",
    "\n",
    "range, tuple, zip, dict, format, sum, len, max, min, map, filter, reduceなど多く用意されている。"
   ]
  },
  {
   "cell_type": "code",
   "execution_count": 6,
   "metadata": {
    "collapsed": false,
    "slideshow": {
     "slide_type": "subslide"
    }
   },
   "outputs": [
    {
     "name": "stdout",
     "output_type": "stream",
     "text": [
      "[0, 1, 2, 3, 4, 5, 6, 7, 8, 9] [6, 7, 8, 9, 10, 11, 12, 13, 14, 15]\n",
      "The type of list1is <type 'list'> \n",
      " \n",
      "(0, 1, 2, 3, 4, 5, 6, 7, 8, 9) \n",
      "\n",
      "[(0, 6), (1, 7), (2, 8), (3, 9), (4, 10), (5, 11), (6, 12), (7, 13), (8, 14), (9, 15)] \n",
      "\n",
      "{0: 6, 1: 7, 2: 8, 3: 9, 4: 10, 5: 11, 6: 12, 7: 13, 8: 14, 9: 15} \n",
      "\n",
      "Output of dictionary1[0] is 6 \n",
      "\n",
      "set([0, 1, 2, 3, 4, 5, 6, 7, 8, 9])\n"
     ]
    }
   ],
   "source": [
    "# リストの作成\n",
    "list1 = range(10)\n",
    "list2 = range(6,16)\n",
    "print list1, list2 \n",
    "print \"The type of list1is %s \\n \" % type(list1)\n",
    "\n",
    "# タプルの作成\n",
    "tuple1 = tuple(list1)\n",
    "print tuple1,\"\\n\"\n",
    "\n",
    "two_multi_list1 = zip(list1, list2)\n",
    "print two_multi_list1,\"\\n\"\n",
    "\n",
    "# 辞書の作成\n",
    "dictionary1 = dict(two_multi_list1)\n",
    "print dictionary1,\"\\n\"\n",
    "print \"Output of dictionary1[0] is %s \\n\" % dictionary1[0]\n",
    "\n",
    "# 集合の作成\n",
    "set1 = set(list1)\n",
    "print set1"
   ]
  },
  {
   "cell_type": "code",
   "execution_count": 7,
   "metadata": {
    "collapsed": false,
    "slideshow": {
     "slide_type": "subslide"
    }
   },
   "outputs": [
    {
     "name": "stdout",
     "output_type": "stream",
     "text": [
      "sum of list1 is 45, length of list1 is 10\n",
      "max of list2 is 15, min of list2 is 6\n"
     ]
    }
   ],
   "source": [
    "sum_list1 = sum(list1)\n",
    "len_list1 = len(list1)\n",
    "max_list2 = max(list2)\n",
    "min_list2 = min(list2)\n",
    "print \"sum of list1 is {0}, length of list1 is {1}\".format(sum_list1, len_list1)\n",
    "print \"max of list2 is {0}, min of list2 is {1}\".format(max_list2, min_list2)"
   ]
  },
  {
   "cell_type": "code",
   "execution_count": 8,
   "metadata": {
    "collapsed": false,
    "slideshow": {
     "slide_type": "subslide"
    }
   },
   "outputs": [
    {
     "name": "stdout",
     "output_type": "stream",
     "text": [
      "converted list1:[0, 1, 2, 3, 4, 5, 6, 7, 8, 9] to double list1:[0, 2, 4, 6, 8, 10, 12, 14, 16, 18]\n"
     ]
    }
   ],
   "source": [
    "double_list1 = map(lambda x: 2*x, list1)\n",
    "print \"converted list1:{0} to double list1:{1}\".format(list1, double_list1)"
   ]
  },
  {
   "cell_type": "code",
   "execution_count": 9,
   "metadata": {
    "collapsed": false,
    "slideshow": {
     "slide_type": "fragment"
    }
   },
   "outputs": [
    {
     "name": "stdout",
     "output_type": "stream",
     "text": [
      "[4, 5, 6, 7, 8, 9]\n"
     ]
    }
   ],
   "source": [
    "filter_more3_list1 = filter(lambda x: x>3, list1)\n",
    "print filter_more3_list1"
   ]
  },
  {
   "cell_type": "code",
   "execution_count": 10,
   "metadata": {
    "collapsed": false,
    "slideshow": {
     "slide_type": "fragment"
    }
   },
   "outputs": [
    {
     "name": "stdout",
     "output_type": "stream",
     "text": [
      "105\n"
     ]
    }
   ],
   "source": [
    "sum_list2 = reduce(lambda x,y:x + y, list2)\n",
    "print sum_list2"
   ]
  },
  {
   "cell_type": "markdown",
   "metadata": {
    "slideshow": {
     "slide_type": "subslide"
    }
   },
   "source": [
    "# 関数の定義\n",
    "\n",
    "関数を定義することで、繰り返しの処理を簡単に行うことができる。\n",
    "\n",
    "pythonでは、インデント(最初の空白)で関数内に入っているかを判定する。"
   ]
  },
  {
   "cell_type": "code",
   "execution_count": 11,
   "metadata": {
    "collapsed": false
   },
   "outputs": [
    {
     "name": "stdout",
     "output_type": "stream",
     "text": [
      "father != fruit\n",
      "apple = fruit\n"
     ]
    }
   ],
   "source": [
    "Fruits_set = set([\"apple\", \"orange\", \"banana\", \"lemon\", \"grape\"])\n",
    "\n",
    "def find_fruit(item):\n",
    "    if item in Fruits_set:\n",
    "        print \"{0} = fruit\".format(item)\n",
    "    else:\n",
    "        print \"{0} != fruit\".format(item)\n",
    "\n",
    "find_fruit(\"father\")\n",
    "find_fruit(\"apple\")"
   ]
  },
  {
   "cell_type": "markdown",
   "metadata": {
    "slideshow": {
     "slide_type": "slide"
    }
   },
   "source": [
    "# Numpy\n",
    "数値計算用ライブラリ。\n",
    "内部でCによるインプリメントが施されているため、高速で計算処理を行うことができる。\n",
    "\n",
    "Numpy.ndarrayというndarray型を使う。"
   ]
  },
  {
   "cell_type": "markdown",
   "metadata": {
    "slideshow": {
     "slide_type": "subslide"
    }
   },
   "source": [
    "numpy.randomを使って乱数を作成してみる。\n",
    "\n",
    "(from numpy.random import *でインポートした。)"
   ]
  },
  {
   "cell_type": "code",
   "execution_count": 12,
   "metadata": {
    "collapsed": false,
    "slideshow": {
     "slide_type": "fragment"
    }
   },
   "outputs": [
    {
     "name": "stdout",
     "output_type": "stream",
     "text": [
      "[ 0.967725    0.26244062  0.35067383  0.01638462  0.48887631  0.59263942\n",
      "  0.59710728  0.7007428   0.75566341  0.74705351  0.04912948  0.49477757\n",
      "  0.94801954  0.54883747  0.86116841  0.06731333  0.68969147  0.12195056\n",
      "  0.1128017   0.4953406 ]\n",
      "<type 'numpy.ndarray'>\n"
     ]
    }
   ],
   "source": [
    "Random_datum = rand(20)\n",
    "print Random_datum\n",
    "print type(Random_datum)"
   ]
  },
  {
   "cell_type": "markdown",
   "metadata": {
    "slideshow": {
     "slide_type": "subslide"
    }
   },
   "source": [
    "### 2000年から2016年までのランダムな年が入った20個の配列を作る。 "
   ]
  },
  {
   "cell_type": "code",
   "execution_count": 13,
   "metadata": {
    "collapsed": false,
    "slideshow": {
     "slide_type": "fragment"
    }
   },
   "outputs": [
    {
     "data": {
      "text/plain": [
       "array([2010, 2013, 2001, 2003, 2008, 2014, 2012, 2000, 2002, 2009, 2007,\n",
       "       2007, 2005, 2015, 2012, 2008, 2002, 2005, 2007, 2012])"
      ]
     },
     "execution_count": 13,
     "metadata": {},
     "output_type": "execute_result"
    }
   ],
   "source": [
    "randint(2000, 2016, 20)"
   ]
  },
  {
   "cell_type": "markdown",
   "metadata": {
    "slideshow": {
     "slide_type": "subslide"
    }
   },
   "source": [
    "### 整数0~9が入った7×7の行列を作る。"
   ]
  },
  {
   "cell_type": "code",
   "execution_count": 14,
   "metadata": {
    "collapsed": false,
    "slideshow": {
     "slide_type": "fragment"
    }
   },
   "outputs": [
    {
     "name": "stdout",
     "output_type": "stream",
     "text": [
      "[[4 2 7 4 2 4 0]\n",
      " [2 7 0 2 7 5 1]\n",
      " [8 3 5 4 5 4 2]\n",
      " [7 5 6 2 4 6 3]\n",
      " [9 5 6 8 9 9 7]\n",
      " [1 2 8 0 7 4 7]\n",
      " [1 6 6 2 3 7 5]]\n",
      "<type 'numpy.ndarray'>\n"
     ]
    }
   ],
   "source": [
    "matrix77 = randint(0,10,(7,7))\n",
    "print matrix77\n",
    "print type(matrix77)"
   ]
  },
  {
   "cell_type": "markdown",
   "metadata": {
    "slideshow": {
     "slide_type": "slide"
    }
   },
   "source": [
    "# Numpyを使ったデータ加工の例"
   ]
  },
  {
   "cell_type": "markdown",
   "metadata": {
    "collapsed": true,
    "slideshow": {
     "slide_type": "slide"
    }
   },
   "source": [
    "## ものの測定データ\n",
    "得られた1000個のデータが正規分布に従っていると仮定して、計算をしてみましょう。"
   ]
  },
  {
   "cell_type": "code",
   "execution_count": 32,
   "metadata": {
    "collapsed": false,
    "scrolled": true,
    "slideshow": {
     "slide_type": "subslide"
    }
   },
   "outputs": [],
   "source": [
    "# 平均30,分散10の正規分布に従って、randomな数を1000個作成。\n",
    "normal_datum = normal(30,10, 1000)"
   ]
  },
  {
   "cell_type": "markdown",
   "metadata": {
    "slideshow": {
     "slide_type": "subslide"
    }
   },
   "source": [
    "そこで平均の推定量は次のように計算される。\n",
    "\n",
    "$$ \\bar{x} = \\hat{\\mu} = \\frac{1}{n} \\sum x_i $$\n",
    "\n",
    "同様に標準偏差の推定量は次のように計算される。\n",
    "\n",
    "$$ \\hat{\\sigma} = \\frac{\\sum (x_i - \\bar{x})^2}{n -1} $$\n",
    "\n",
    "推定量の標準偏差について、\n",
    "$$ \\sigma(\\bar{x}) = \\frac{\\sigma}{\\sqrt{n}} $$\n",
    "が言えて、\n",
    "$$ \\sigma(\\bar{x}) = \\frac{\\hat{\\sigma}}{\\sqrt{n}} $$\n",
    "と計算して求めることができる。"
   ]
  },
  {
   "cell_type": "code",
   "execution_count": 16,
   "metadata": {
    "collapsed": false,
    "slideshow": {
     "slide_type": "subslide"
    }
   },
   "outputs": [
    {
     "name": "stdout",
     "output_type": "stream",
     "text": [
      "Mean=30.412, STD=9.72702,Mean_STD=2.51151\n",
      "よって平均値の推定は、30.412±2.51151, 分散の推定値は9.72702 \n",
      "真の値である平均値30,分散10とconsistent\n"
     ]
    }
   ],
   "source": [
    "mean = round(np.mean(normal_datum,dtype=np.float32),3)\n",
    "std = round(np.std(normal_datum, ddof=1,dtype=np.float32), 5)\n",
    "mean_std = round(std/math.sqrt(15), 5)\n",
    "print \"Mean={0}, STD={1},Mean_STD={2}\".format(mean, std, mean_std)\n",
    "print \"よって平均値の推定は、{0}±{2}, 分散の推定値は{1} \\n真の値である平均値30,分散10とconsistent\".format(mean, std, mean_std)"
   ]
  },
  {
   "cell_type": "code",
   "execution_count": 17,
   "metadata": {
    "collapsed": false,
    "slideshow": {
     "slide_type": "subslide"
    }
   },
   "outputs": [
    {
     "data": {
      "text/plain": [
       "(array([  1.,   0.,   0.,   2.,   0.,   1.,   1.,   0.,   7.,   5.,   7.,\n",
       "         12.,   9.,   8.,  19.,  19.,  22.,  28.,  30.,  39.,  31.,  39.,\n",
       "         41.,  58.,  52.,  48.,  60.,  51.,  57.,  55.,  32.,  25.,  34.,\n",
       "         27.,  28.,  39.,  22.,  23.,  18.,  13.,  13.,   6.,   7.,   6.,\n",
       "          2.,   1.,   0.,   0.,   0.,   2.]),\n",
       " array([ -2.83707524,  -1.57569232,  -0.31430941,   0.94707351,\n",
       "          2.20845643,   3.46983935,   4.73122226,   5.99260518,\n",
       "          7.2539881 ,   8.51537101,   9.77675393,  11.03813685,\n",
       "         12.29951977,  13.56090268,  14.8222856 ,  16.08366852,\n",
       "         17.34505144,  18.60643435,  19.86781727,  21.12920019,\n",
       "         22.3905831 ,  23.65196602,  24.91334894,  26.17473186,\n",
       "         27.43611477,  28.69749769,  29.95888061,  31.22026352,\n",
       "         32.48164644,  33.74302936,  35.00441228,  36.26579519,\n",
       "         37.52717811,  38.78856103,  40.04994395,  41.31132686,\n",
       "         42.57270978,  43.8340927 ,  45.09547561,  46.35685853,\n",
       "         47.61824145,  48.87962437,  50.14100728,  51.4023902 ,\n",
       "         52.66377312,  53.92515604,  55.18653895,  56.44792187,\n",
       "         57.70930479,  58.9706877 ,  60.23207062]),\n",
       " <a list of 50 Patch objects>)"
      ]
     },
     "execution_count": 17,
     "metadata": {},
     "output_type": "execute_result"
    },
    {
     "data": {
      "image/png": "[encoded data removed]",
      "text/plain": [
       "<matplotlib.figure.Figure at 0x106cd73d0>"
      ]
     },
     "metadata": {},
     "output_type": "display_data"
    }
   ],
   "source": [
    "plt.hist(normal_datum, bins=50, alpha=0.6)\n",
    "#plt.show()"
   ]
  },
  {
   "cell_type": "markdown",
   "metadata": {
    "slideshow": {
     "slide_type": "slide"
    }
   },
   "source": [
    "# Pandasを使ったData加工\n",
    "DataFrameと呼ばれる表型の多次元配列と、Seriesと呼ばれる配列が主に使われる。"
   ]
  },
  {
   "cell_type": "code",
   "execution_count": 18,
   "metadata": {
    "collapsed": false,
    "slideshow": {
     "slide_type": "subslide"
    }
   },
   "outputs": [
    {
     "name": "stdout",
     "output_type": "stream",
     "text": [
      "2015-05-24    0.522731\n",
      "2015-05-25    0.847579\n",
      "2015-05-26   -0.469493\n",
      "2015-05-27    1.381011\n",
      "2015-05-28   -0.501458\n",
      "2015-05-29   -0.226971\n",
      "2015-05-30   -0.560933\n",
      "2015-05-31   -0.296603\n",
      "2015-06-01   -1.234280\n",
      "2015-06-02    1.055512\n",
      "2015-06-03    0.864804\n",
      "2015-06-04   -0.497853\n",
      "2015-06-05    1.889989\n",
      "2015-06-06    0.217788\n",
      "2015-06-07   -0.355511\n",
      "...\n",
      "2016-06-12    0.840843\n",
      "2016-06-13   -0.702017\n",
      "2016-06-14   -0.838687\n",
      "2016-06-15    0.233875\n",
      "2016-06-16    1.082067\n",
      "2016-06-17    0.202799\n",
      "2016-06-18    1.638992\n",
      "2016-06-19    0.864708\n",
      "2016-06-20   -0.104530\n",
      "2016-06-21    0.439782\n",
      "2016-06-22   -0.561861\n",
      "2016-06-23   -0.685354\n",
      "2016-06-24    1.109323\n",
      "2016-06-25    0.290980\n",
      "2016-06-26    0.617162\n",
      "Freq: D, Length: 400\n"
     ]
    },
    {
     "data": {
      "text/plain": [
       "<matplotlib.axes._subplots.AxesSubplot at 0x106ccbb50>"
      ]
     },
     "execution_count": 18,
     "metadata": {},
     "output_type": "execute_result"
    },
    {
     "data": {
      "image/png": "[encoded data removed]",
      "text/plain": [
       "<matplotlib.figure.Figure at 0x1095c8590>"
      ]
     },
     "metadata": {},
     "output_type": "display_data"
    }
   ],
   "source": [
    "time_series = pd.Series(randn(400), index=pd.date_range('5/24/2015', periods=400))\n",
    "print time_series\n",
    "time_series_cum = time_series.cumsum()\n",
    "time_series_cum.plot()"
   ]
  },
  {
   "cell_type": "code",
   "execution_count": 33,
   "metadata": {
    "collapsed": false,
    "slideshow": {
     "slide_type": "subslide"
    }
   },
   "outputs": [
    {
     "name": "stdout",
     "output_type": "stream",
     "text": [
      "          a         b         c         d         e\n",
      "0  0.070168  0.265858  0.850016  0.281641  0.951560\n",
      "1  0.573395  0.471975  0.047161  0.593852  0.142821\n",
      "2  0.955663  0.304477  0.599369  0.436050  0.657034\n",
      "3  0.522671  0.827938  0.450220  0.386473  0.523042\n",
      "4  0.684429  0.781530  0.475080  0.479966  0.334825\n",
      "5  0.421336  0.265455  0.734438  0.008091  0.258433\n",
      "6  0.129350  0.863594  0.544230  0.703546  0.926271\n",
      "7  0.759455  0.630417  0.495824  0.260369  0.411397\n"
     ]
    },
    {
     "ename": "AttributeError",
     "evalue": "'DataFrame' object has no attribute 'title'",
     "output_type": "error",
     "traceback": [
      "\u001b[0;31m---------------------------------------------------------------------------\u001b[0m",
      "\u001b[0;31mAttributeError\u001b[0m                            Traceback (most recent call last)",
      "\u001b[0;32m<ipython-input-33-cacc6e53894f>\u001b[0m in \u001b[0;36m<module>\u001b[0;34m()\u001b[0m\n\u001b[1;32m      2\u001b[0m \u001b[0;32mprint\u001b[0m \u001b[0mdf1\u001b[0m\u001b[0;34m\u001b[0m\u001b[0m\n\u001b[1;32m      3\u001b[0m \u001b[0mdf1\u001b[0m\u001b[0;34m.\u001b[0m\u001b[0mplot\u001b[0m\u001b[0;34m(\u001b[0m\u001b[0mkind\u001b[0m\u001b[0;34m=\u001b[0m\u001b[0;34m'bar'\u001b[0m\u001b[0;34m,\u001b[0m \u001b[0malpha\u001b[0m\u001b[0;34m=\u001b[0m\u001b[0;36m0.6\u001b[0m\u001b[0;34m)\u001b[0m\u001b[0;34m\u001b[0m\u001b[0m\n\u001b[0;32m----> 4\u001b[0;31m \u001b[0mdf1\u001b[0m\u001b[0;34m.\u001b[0m\u001b[0mtitle\u001b[0m\u001b[0;34m(\u001b[0m\u001b[0;34m\"test bar data\"\u001b[0m\u001b[0;34m)\u001b[0m\u001b[0;34m\u001b[0m\u001b[0m\n\u001b[0m",
      "\u001b[0;32m/Library/Python/2.7/site-packages/pandas/core/generic.pyc\u001b[0m in \u001b[0;36m__getattr__\u001b[0;34m(self, name)\u001b[0m\n\u001b[1;32m   1841\u001b[0m                 \u001b[0;32mreturn\u001b[0m \u001b[0mself\u001b[0m\u001b[0;34m[\u001b[0m\u001b[0mname\u001b[0m\u001b[0;34m]\u001b[0m\u001b[0;34m\u001b[0m\u001b[0m\n\u001b[1;32m   1842\u001b[0m             raise AttributeError(\"'%s' object has no attribute '%s'\" %\n\u001b[0;32m-> 1843\u001b[0;31m                                  (type(self).__name__, name))\n\u001b[0m\u001b[1;32m   1844\u001b[0m \u001b[0;34m\u001b[0m\u001b[0m\n\u001b[1;32m   1845\u001b[0m     \u001b[0;32mdef\u001b[0m \u001b[0m__setattr__\u001b[0m\u001b[0;34m(\u001b[0m\u001b[0mself\u001b[0m\u001b[0;34m,\u001b[0m \u001b[0mname\u001b[0m\u001b[0;34m,\u001b[0m \u001b[0mvalue\u001b[0m\u001b[0;34m)\u001b[0m\u001b[0;34m:\u001b[0m\u001b[0;34m\u001b[0m\u001b[0m\n",
      "\u001b[0;31mAttributeError\u001b[0m: 'DataFrame' object has no attribute 'title'"
     ]
    },
    {
     "data": {
      "image/png": "[encoded data removed]",
      "text/plain": [
       "<matplotlib.figure.Figure at 0x10a08b310>"
      ]
     },
     "metadata": {},
     "output_type": "display_data"
    }
   ],
   "source": [
    "df1 = pd.DataFrame(rand(8, 5), columns=['a', 'b', 'c', 'd', 'e'])\n",
    "print df1\n",
    "df1.plot(kind='bar', alpha=0.6)\n",
    "df1.title(\"test bar data\")"
   ]
  },
  {
   "cell_type": "markdown",
   "metadata": {
    "slideshow": {
     "slide_type": "slide"
    }
   },
   "source": [
    "# dataの読み書き\n",
    "### pandasから読み書きする方法が分かりやすい。\n",
    "csv fileとtsv fileで使うと互換性がよい。"
   ]
  },
  {
   "cell_type": "markdown",
   "metadata": {
    "slideshow": {
     "slide_type": "subslide"
    }
   },
   "source": [
    "### データを書き込み"
   ]
  },
  {
   "cell_type": "code",
   "execution_count": 26,
   "metadata": {
    "collapsed": false,
    "slideshow": {
     "slide_type": "fragment"
    }
   },
   "outputs": [],
   "source": [
    "df1.to_csv('bar_data.csv', index=0)\n",
    "df2.to_csv( 'bar_data.tsv', sep='\\t', index=0)"
   ]
  },
  {
   "cell_type": "markdown",
   "metadata": {
    "slideshow": {
     "slide_type": "subslide"
    }
   },
   "source": [
    "### データの読み込み"
   ]
  },
  {
   "cell_type": "code",
   "execution_count": 27,
   "metadata": {
    "collapsed": false,
    "slideshow": {
     "slide_type": "fragment"
    }
   },
   "outputs": [
    {
     "data": {
      "text/html": [
       "<div style=\"max-height:1000px;max-width:1500px;overflow:auto;\">\n",
       "<table border=\"1\" class=\"dataframe\">\n",
       "  <thead>\n",
       "    <tr style=\"text-align: right;\">\n",
       "      <th></th>\n",
       "      <th>a</th>\n",
       "      <th>b</th>\n",
       "      <th>c</th>\n",
       "      <th>d</th>\n",
       "      <th>e</th>\n",
       "    </tr>\n",
       "  </thead>\n",
       "  <tbody>\n",
       "    <tr>\n",
       "      <th>0</th>\n",
       "      <td> 0.623378</td>\n",
       "      <td> 0.129408</td>\n",
       "      <td> 0.018125</td>\n",
       "      <td> 0.955533</td>\n",
       "      <td> 0.484414</td>\n",
       "    </tr>\n",
       "    <tr>\n",
       "      <th>1</th>\n",
       "      <td> 0.657098</td>\n",
       "      <td> 0.340044</td>\n",
       "      <td> 0.389893</td>\n",
       "      <td> 0.074795</td>\n",
       "      <td> 0.207430</td>\n",
       "    </tr>\n",
       "    <tr>\n",
       "      <th>2</th>\n",
       "      <td> 0.548314</td>\n",
       "      <td> 0.794055</td>\n",
       "      <td> 0.041263</td>\n",
       "      <td> 0.944952</td>\n",
       "      <td> 0.205769</td>\n",
       "    </tr>\n",
       "    <tr>\n",
       "      <th>3</th>\n",
       "      <td> 0.365320</td>\n",
       "      <td> 0.961009</td>\n",
       "      <td> 0.512197</td>\n",
       "      <td> 0.805796</td>\n",
       "      <td> 0.002087</td>\n",
       "    </tr>\n",
       "    <tr>\n",
       "      <th>4</th>\n",
       "      <td> 0.234000</td>\n",
       "      <td> 0.835268</td>\n",
       "      <td> 0.666507</td>\n",
       "      <td> 0.420280</td>\n",
       "      <td> 0.086737</td>\n",
       "    </tr>\n",
       "    <tr>\n",
       "      <th>5</th>\n",
       "      <td> 0.330629</td>\n",
       "      <td> 0.993646</td>\n",
       "      <td> 0.955271</td>\n",
       "      <td> 0.947760</td>\n",
       "      <td> 0.811460</td>\n",
       "    </tr>\n",
       "    <tr>\n",
       "      <th>6</th>\n",
       "      <td> 0.860152</td>\n",
       "      <td> 0.093252</td>\n",
       "      <td> 0.249279</td>\n",
       "      <td> 0.177542</td>\n",
       "      <td> 0.357705</td>\n",
       "    </tr>\n",
       "    <tr>\n",
       "      <th>7</th>\n",
       "      <td> 0.200926</td>\n",
       "      <td> 0.718892</td>\n",
       "      <td> 0.003464</td>\n",
       "      <td> 0.501064</td>\n",
       "      <td> 0.983629</td>\n",
       "    </tr>\n",
       "  </tbody>\n",
       "</table>\n",
       "</div>"
      ],
      "text/plain": [
       "          a         b         c         d         e\n",
       "0  0.623378  0.129408  0.018125  0.955533  0.484414\n",
       "1  0.657098  0.340044  0.389893  0.074795  0.207430\n",
       "2  0.548314  0.794055  0.041263  0.944952  0.205769\n",
       "3  0.365320  0.961009  0.512197  0.805796  0.002087\n",
       "4  0.234000  0.835268  0.666507  0.420280  0.086737\n",
       "5  0.330629  0.993646  0.955271  0.947760  0.811460\n",
       "6  0.860152  0.093252  0.249279  0.177542  0.357705\n",
       "7  0.200926  0.718892  0.003464  0.501064  0.983629"
      ]
     },
     "execution_count": 27,
     "metadata": {},
     "output_type": "execute_result"
    }
   ],
   "source": [
    "df2 = pd.read_csv('bar_data.csv')\n",
    "df2"
   ]
  },
  {
   "cell_type": "markdown",
   "metadata": {
    "slideshow": {
     "slide_type": "slide"
    }
   },
   "source": [
    "これでこの回は終わります。\n",
    "それでは後半機械学習を実践してみましょう。"
   ]
  }
 ],
 "metadata": {
  "celltoolbar": "Slideshow",
  "kernelspec": {
   "display_name": "Python 2",
   "language": "python",
   "name": "python2"
  },
  "language_info": {
   "codemirror_mode": {
    "name": "ipython",
    "version": 2
   },
   "file_extension": ".py",
   "mimetype": "text/x-python",
   "name": "python",
   "nbconvert_exporter": "python",
   "pygments_lexer": "ipython2",
   "version": "2.7.9"
  }
 },
 "nbformat": 4,
 "nbformat_minor": 0
}
