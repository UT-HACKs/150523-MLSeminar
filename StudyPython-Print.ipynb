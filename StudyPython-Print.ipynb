{
 "cells": [
  {
   "cell_type": "markdown",
   "metadata": {
    "slideshow": {
     "slide_type": "slide"
    }
   },
   "source": [
    "# 機械学習講習会 \n",
    "#pythonにおける基本的な文法\n",
    "## @ 虎ノ門\n",
    "\n",
    "#### 中西均\n",
    "\n",
    "#### 2015/ 5/ 23 (Sat)"
   ]
  },
  {
   "cell_type": "markdown",
   "metadata": {
    "slideshow": {
     "slide_type": "slide"
    }
   },
   "source": [
    "# はじめに\n",
    "\n",
    "## この回では、pythonの基本的な文法を紹介します。\n",
    "##### pythonによる機械学習の実装に向けたデータ加工、データビジュアライゼーションを中心に扱います。"
   ]
  },
  {
   "cell_type": "markdown",
   "metadata": {
    "slideshow": {
     "slide_type": "slide"
    }
   },
   "source": [
    "# 目次\n",
    "## Pythonを使ったデータ解析\n",
    "## パッケージ、モジュールの読み込み\n",
    "## 基本的な文法: 型、条件文、関数\n",
    "## Dataの加工処理とVisualization: Numpy,  PandasとMatplotlib\n",
    "## Fileの読み書き"
   ]
  },
  {
   "cell_type": "markdown",
   "metadata": {
    "slideshow": {
     "slide_type": "slide"
    }
   },
   "source": [
    "# Pythonを使ったデータ解析\n",
    "\n",
    "Pythonを使ってデータ解析を行うことを考えます。\n",
    "\n",
    "一般に次の順番で解析が進行します。\n",
    "\n",
    "- データの取得(API, webからの取得, csv file, SQL)\n",
    "- データの加工その1( <font color='red'>numpy</font> や <font color='red'>pandas</font> などを使った行列計算)\n",
    "- 機械学習、データ分析(今回は <font color='red'>scikit learn</font> を用います)\n",
    "- データの加工その2( <font color='red'>numpy</font> や <font color='red'>pandas</font> などを使って整形)\n",
    "- データの可視化( <font color='red'>matplotlib</font> を使って表現)\n",
    "- データの保存\n"
   ]
  },
  {
   "cell_type": "markdown",
   "metadata": {
    "slideshow": {
     "slide_type": "slide"
    }
   },
   "source": [
    "# なぜpythonでデータ解析?\n",
    "## データ = 構造化された情報\n",
    "データセットには、\n",
    "\n",
    "1. 複数の次元の配列・行列\n",
    "1. 複数の異なる型のスプレッドシート形式のデータ(<font color='red'>csv</font>, <font color='red'>tsv</font>)\n",
    "1. <font color='red'>SQL</font>などのキー列に紐付いたデータ\n",
    "1. 時系列データ\n",
    "などがある。\n",
    "また、初めは構造化されていないが、分析・モデル化により構造化されたデータもある。\n",
    "\n",
    "1. ニュースサイトの記事といった自然言語\n",
    "\n",
    "複数の型のデータ、データの構造化を行うのに優れている、文字列の扱いに優れている、他の言語との互換性が良い\n",
    "などの理由から、pythonが便利である。"
   ]
  },
  {
   "cell_type": "markdown",
   "metadata": {
    "slideshow": {
     "slide_type": "slide"
    }
   },
   "source": [
    "## それではcodeを書いていきましょう。"
   ]
  },
  {
   "cell_type": "markdown",
   "metadata": {
    "slideshow": {
     "slide_type": "slide"
    }
   },
   "source": [
    "# パッケージ、モジュールの読み込み\n",
    "\n",
    "pythonでのパッケージ、モジュールの読み込み方法は、\n",
    "\n",
    "import A\n",
    "\n",
    "import A.B\n",
    "\n",
    "import A as B\n",
    "\n",
    "from B import A\n",
    "\n",
    "のようにして行うことができる。\n",
    "これらの表記の違いはモジュールインポート後のアクセス方法の違いに関わってくる。"
   ]
  },
  {
   "cell_type": "code",
   "execution_count": 1,
   "metadata": {
    "collapsed": false,
    "slideshow": {
     "slide_type": "subslide"
    }
   },
   "outputs": [],
   "source": [
    "%matplotlib inline\n",
    "import math\n",
    "import numpy as np\n",
    "from numpy.random import *\n",
    "import pandas as pd\n",
    "import matplotlib.pyplot as plt  # pylabの代わりにmatplotlibのpyplotを使う。"
   ]
  },
  {
   "cell_type": "markdown",
   "metadata": {
    "slideshow": {
     "slide_type": "slide"
    }
   },
   "source": [
    " # pythonの基本\n",
    " ## リスト、タプル、辞書、集合\n",
    " pythonでの組み込みクラスについて見てみましょう。"
   ]
  },
  {
   "cell_type": "markdown",
   "metadata": {
    "slideshow": {
     "slide_type": "subslide"
    }
   },
   "source": [
    "##リスト\n",
    "要素としてあらゆるオブジェクトを入れて、まとめて管理できる型。\n",
    "\n",
    "要素を指定して、取り出すほか、\n",
    "要素を追加削除したり、他のリストと連結、変換を行ったりすることができる。"
   ]
  },
  {
   "cell_type": "code",
   "execution_count": 2,
   "metadata": {
    "collapsed": false,
    "slideshow": {
     "slide_type": "subslide"
    }
   },
   "outputs": [
    {
     "name": "stdout",
     "output_type": "stream",
     "text": [
      "2010\n",
      "[2011, 2012, 2013, 2014, 2015]\n",
      "[2013, 2014]\n",
      "[2011, 2012, 2013, 2014, 2015, 2016]\n"
     ]
    }
   ],
   "source": [
    "years_list = [2010, 2011, 2012, 2013, 2014, 2015]\n",
    "print years_list[0]\n",
    "partial_years_list1 = years_list[1:]  # 1,2,3,4,5を取り出す\n",
    "partial_years_list2 = years_list[3:5] # 3,4を取り出す\n",
    "print partial_years_list1\n",
    "print partial_years_list2\n",
    "years_list.pop(0)\n",
    "years_list.append(2016)\n",
    "print years_list"
   ]
  },
  {
   "cell_type": "markdown",
   "metadata": {
    "slideshow": {
     "slide_type": "subslide"
    }
   },
   "source": [
    "# タプル\n",
    "リストと同じく要素としてオブジェクトをいれて、管理できる型。\n",
    "\n",
    "リストと同じく要素を取り出したり、連結をしたりすることができる。\n",
    "\n",
    "違いは一度作成したオブジェクトの変更ができず、メソッドが用意されていない。"
   ]
  },
  {
   "cell_type": "code",
   "execution_count": 3,
   "metadata": {
    "collapsed": false,
    "slideshow": {
     "slide_type": "fragment"
    }
   },
   "outputs": [
    {
     "name": "stdout",
     "output_type": "stream",
     "text": [
      "Sun\n",
      "('Sun', 'Mon', 'Tue')\n"
     ]
    }
   ],
   "source": [
    "days_tuple = (\"Sun\", \"Mon\", \"Tue\", \"Wed\", \"Thu\", \"Fri\", \"Sat\")\n",
    "print days_tuple[0]\n",
    "partial_days_tuple = days_tuple[:3]\n",
    "print partial_days_tuple"
   ]
  },
  {
   "cell_type": "markdown",
   "metadata": {
    "slideshow": {
     "slide_type": "subslide"
    }
   },
   "source": [
    "# 辞書\n",
    "辞書型はkeyとvalueと呼ばれる2つのオブジェクトから要素が構成される。\n",
    "\n",
    "keyを指定することでvalueを取り出すことができる。\n",
    "\n",
    "keyには変更できない型が指定できる。(数値、文字列、tupleなど)\n",
    "\n",
    "要素の追加、削除や、key, valueの一覧を取り出すことができる。"
   ]
  },
  {
   "cell_type": "code",
   "execution_count": 4,
   "metadata": {
    "collapsed": false,
    "slideshow": {
     "slide_type": "subslide"
    }
   },
   "outputs": [
    {
     "name": "stdout",
     "output_type": "stream",
     "text": [
      "日本\n",
      "['CA', 'JP', 'US', 'UK']\n"
     ]
    }
   ],
   "source": [
    "countries_dict = {\"JP\":u\"日本\", \"CA\":u\"カナダ\", \"UK\": u\"イギリス\"}\n",
    "print countries_dict[\"JP\"]\n",
    "countries_dict.update({\"US\": u\"アメリカ\"})\n",
    "print countries_dict.keys()"
   ]
  },
  {
   "cell_type": "markdown",
   "metadata": {
    "slideshow": {
     "slide_type": "subslide"
    }
   },
   "source": [
    "# 集合\n",
    "集合型は重複、順序なしで要素を管理する型。\n",
    "和集合や、差集合をとったり、ある要素が集合に含まれているかを調べたりすることができる。"
   ]
  },
  {
   "cell_type": "code",
   "execution_count": 5,
   "metadata": {
    "collapsed": false,
    "slideshow": {
     "slide_type": "fragment"
    }
   },
   "outputs": [
    {
     "name": "stdout",
     "output_type": "stream",
     "text": [
      "set(['grape', 'apple', 'strauberry', 'orange', 'lemon', 'banana'])\n"
     ]
    }
   ],
   "source": [
    "Fruits_set = set([\"apple\", \"orange\", \"banana\", \"lemon\", \"grape\"])\n",
    "Fruits_set.add(\"strauberry\")\n",
    "print Fruits_set"
   ]
  },
  {
   "cell_type": "markdown",
   "metadata": {
    "slideshow": {
     "slide_type": "subslide"
    }
   },
   "source": [
    "# 関数の定義\n",
    "\n",
    "関数を定義することで、繰り返しの処理を簡単に行うことができる。\n",
    "\n",
    "pythonでは、インデント(最初の空白)で関数内に入っているかを判定する。"
   ]
  },
  {
   "cell_type": "markdown",
   "metadata": {
    "slideshow": {
     "slide_type": "fragment"
    }
   },
   "source": [
    "### 条件文の書き方\n",
    "pythonでの条件文は、インデント(最初の空白によって構造を決める。)\n",
    "\n",
    "- for\n",
    "- if\n",
    "- while\n",
    "\n",
    "を扱う。(switchはない。)"
   ]
  },
  {
   "cell_type": "code",
   "execution_count": 6,
   "metadata": {
    "collapsed": false,
    "slideshow": {
     "slide_type": "subslide"
    }
   },
   "outputs": [
    {
     "data": {
      "text/plain": [
       "[1, 41, 81, 121, 161, 201, 241, 281]"
      ]
     },
     "execution_count": 6,
     "metadata": {},
     "output_type": "execute_result"
    }
   ],
   "source": [
    "divided40_and_1 = []\n",
    "for i in range(300):\n",
    "    if i % 40 == 1:\n",
    "        divided40_and_1.append(i)\n",
    "divided40_and_1"
   ]
  },
  {
   "cell_type": "code",
   "execution_count": 7,
   "metadata": {
    "collapsed": false,
    "slideshow": {
     "slide_type": "subslide"
    }
   },
   "outputs": [
    {
     "name": "stdout",
     "output_type": "stream",
     "text": [
      "father != fruit\n",
      "apple = fruit\n"
     ]
    }
   ],
   "source": [
    "Fruits_set = set([\"apple\", \"orange\", \"banana\", \"lemon\", \"grape\"])\n",
    "\n",
    "def find_fruit(item):\n",
    "    if item in Fruits_set:\n",
    "        print \"{0} = fruit\".format(item)\n",
    "    else:\n",
    "        print \"{0} != fruit\".format(item)\n",
    "\n",
    "find_fruit(\"father\")\n",
    "find_fruit(\"apple\")"
   ]
  },
  {
   "cell_type": "code",
   "execution_count": 8,
   "metadata": {
    "collapsed": false,
    "slideshow": {
     "slide_type": "subslide"
    }
   },
   "outputs": [
    {
     "name": "stdout",
     "output_type": "stream",
     "text": [
      "num = 0\n",
      "num = 1\n",
      "num = 2\n",
      "num = 3\n",
      "num = 4\n"
     ]
    }
   ],
   "source": [
    "num = 0\n",
    "while num < 5:\n",
    "  print \"num = \" + str(num)\n",
    "  num += 1"
   ]
  },
  {
   "cell_type": "markdown",
   "metadata": {
    "slideshow": {
     "slide_type": "slide"
    }
   },
   "source": [
    "# 組み込み関数\n",
    "### python自体が持っている関数のことを、組み込み関数という。\n",
    "\n",
    "range, tuple, zip, dict, format, sum, len, max, min, map, filter, reduceなど多く用意されている。"
   ]
  },
  {
   "cell_type": "code",
   "execution_count": 9,
   "metadata": {
    "collapsed": false,
    "slideshow": {
     "slide_type": "subslide"
    }
   },
   "outputs": [
    {
     "name": "stdout",
     "output_type": "stream",
     "text": [
      "[0, 1, 2, 3, 4, 5, 6, 7, 8, 9] [6, 7, 8, 9, 10, 11, 12, 13, 14, 15]\n",
      "The type of list1is <type 'list'> \n",
      " \n",
      "(0, 1, 2, 3, 4, 5, 6, 7, 8, 9) \n",
      "\n",
      "[(0, 6), (1, 7), (2, 8), (3, 9), (4, 10), (5, 11), (6, 12), (7, 13), (8, 14), (9, 15)] \n",
      "\n",
      "{0: 6, 1: 7, 2: 8, 3: 9, 4: 10, 5: 11, 6: 12, 7: 13, 8: 14, 9: 15} \n",
      "\n",
      "Output of dictionary1[0] is 6 \n",
      "\n",
      "set([0, 1, 2, 3, 4, 5, 6, 7, 8, 9])\n"
     ]
    }
   ],
   "source": [
    "# リストの作成\n",
    "list1 = range(10)\n",
    "list2 = range(6,16)\n",
    "print list1, list2 \n",
    "print \"The type of list1is %s \\n \" % type(list1)\n",
    "\n",
    "# タプルの作成\n",
    "tuple1 = tuple(list1)\n",
    "print tuple1,\"\\n\"\n",
    "\n",
    "two_multi_list1 = zip(list1, list2)\n",
    "print two_multi_list1,\"\\n\"\n",
    "\n",
    "# 辞書の作成\n",
    "dictionary1 = dict(two_multi_list1)\n",
    "print dictionary1,\"\\n\"\n",
    "print \"Output of dictionary1[0] is %s \\n\" % dictionary1[0]\n",
    "\n",
    "# 集合の作成\n",
    "set1 = set(list1)\n",
    "print set1"
   ]
  },
  {
   "cell_type": "code",
   "execution_count": 10,
   "metadata": {
    "collapsed": false,
    "slideshow": {
     "slide_type": "subslide"
    }
   },
   "outputs": [
    {
     "name": "stdout",
     "output_type": "stream",
     "text": [
      "sum of list1 is 45, length of list1 is 10\n",
      "max of list2 is 15, min of list2 is 6\n"
     ]
    }
   ],
   "source": [
    "sum_list1 = sum(list1)\n",
    "len_list1 = len(list1)\n",
    "max_list2 = max(list2)\n",
    "min_list2 = min(list2)\n",
    "print \"sum of list1 is {0}, length of list1 is {1}\".format(sum_list1, len_list1)\n",
    "print \"max of list2 is {0}, min of list2 is {1}\".format(max_list2, min_list2)"
   ]
  },
  {
   "cell_type": "code",
   "execution_count": 11,
   "metadata": {
    "collapsed": false,
    "slideshow": {
     "slide_type": "subslide"
    }
   },
   "outputs": [
    {
     "name": "stdout",
     "output_type": "stream",
     "text": [
      "converted list1:[0, 1, 2, 3, 4, 5, 6, 7, 8, 9] to double list1:[0, 2, 4, 6, 8, 10, 12, 14, 16, 18]\n"
     ]
    }
   ],
   "source": [
    "double_list1 = map(lambda x: 2*x, list1)\n",
    "print \"converted list1:{0} to double list1:{1}\".format(list1, double_list1)"
   ]
  },
  {
   "cell_type": "code",
   "execution_count": 12,
   "metadata": {
    "collapsed": false,
    "slideshow": {
     "slide_type": "fragment"
    }
   },
   "outputs": [
    {
     "name": "stdout",
     "output_type": "stream",
     "text": [
      "[4, 5, 6, 7, 8, 9]\n"
     ]
    }
   ],
   "source": [
    "filter_more3_list1 = filter(lambda x: x>3, list1)\n",
    "print filter_more3_list1"
   ]
  },
  {
   "cell_type": "code",
   "execution_count": 13,
   "metadata": {
    "collapsed": false,
    "slideshow": {
     "slide_type": "fragment"
    }
   },
   "outputs": [
    {
     "name": "stdout",
     "output_type": "stream",
     "text": [
      "105\n"
     ]
    }
   ],
   "source": [
    "sum_list2 = reduce(lambda x,y:x + y, list2)\n",
    "print sum_list2"
   ]
  },
  {
   "cell_type": "markdown",
   "metadata": {
    "slideshow": {
     "slide_type": "slide"
    }
   },
   "source": [
    "# Numpy\n",
    "Numerical pythonの略で、数値計算用ライブラリ。\n",
    "\n",
    "- 内部でCによるインプリメントが施されているため、高速で計算処理を行うことができる。(数学的演算が多種多様)\n",
    "- Numpy.ndarrayというndarray型を使い、多次元配列を扱うことができる。\n",
    "- 配列ベースでデータをやりとりできる。"
   ]
  },
  {
   "cell_type": "markdown",
   "metadata": {
    "slideshow": {
     "slide_type": "subslide"
    }
   },
   "source": [
    "さて、ここでまずnumpy.randomを使って乱数を作成してみましょう。\n",
    "\n",
    "(from numpy.random import *でインポートした。)"
   ]
  },
  {
   "cell_type": "code",
   "execution_count": 14,
   "metadata": {
    "collapsed": false,
    "slideshow": {
     "slide_type": "fragment"
    }
   },
   "outputs": [
    {
     "name": "stdout",
     "output_type": "stream",
     "text": [
      "[ 0.04306538  0.42042287  0.28050073  0.12844736  0.6157367   0.53067196\n",
      "  0.83971421  0.61515582  0.65398982  0.96805465  0.37744516  0.37859421\n",
      "  0.55533853  0.13616655  0.00754987  0.98996554  0.70114808  0.07169877\n",
      "  0.71298408  0.22632369]\n",
      "<type 'numpy.ndarray'>\n"
     ]
    }
   ],
   "source": [
    "Random_datum = rand(20)\n",
    "print Random_datum\n",
    "print type(Random_datum)"
   ]
  },
  {
   "cell_type": "markdown",
   "metadata": {
    "slideshow": {
     "slide_type": "subslide"
    }
   },
   "source": [
    "### 2000年から2016年までのランダムな年が入った20個の配列を作る。 "
   ]
  },
  {
   "cell_type": "code",
   "execution_count": 16,
   "metadata": {
    "collapsed": false,
    "slideshow": {
     "slide_type": "fragment"
    }
   },
   "outputs": [
    {
     "data": {
      "text/plain": [
       "array([2008, 2009, 2005, 2015, 2001, 2001, 2011, 2004, 2013, 2015, 2004,\n",
       "       2000, 2012, 2001, 2014, 2004, 2010, 2000, 2002, 2007])"
      ]
     },
     "execution_count": 16,
     "metadata": {},
     "output_type": "execute_result"
    }
   ],
   "source": [
    "randint(2000, 2016, 20)"
   ]
  },
  {
   "cell_type": "markdown",
   "metadata": {
    "slideshow": {
     "slide_type": "subslide"
    }
   },
   "source": [
    "### 整数0~9が入った7×7の行列を作る。"
   ]
  },
  {
   "cell_type": "code",
   "execution_count": 17,
   "metadata": {
    "collapsed": false,
    "slideshow": {
     "slide_type": "fragment"
    }
   },
   "outputs": [
    {
     "name": "stdout",
     "output_type": "stream",
     "text": [
      "[[7 9 7 1 0 7 7]\n",
      " [2 3 7 7 1 6 9]\n",
      " [5 3 1 6 8 4 8]\n",
      " [0 5 5 4 5 1 1]\n",
      " [4 1 5 0 9 4 9]\n",
      " [2 6 2 3 3 8 7]\n",
      " [2 5 7 0 1 7 2]]\n",
      "<type 'numpy.ndarray'>\n"
     ]
    }
   ],
   "source": [
    "matrix77 = randint(0,10,(7,7))\n",
    "print matrix77\n",
    "print type(matrix77)"
   ]
  },
  {
   "cell_type": "markdown",
   "metadata": {
    "slideshow": {
     "slide_type": "slide"
    }
   },
   "source": [
    "# Numpyを使ったデータ加工の例"
   ]
  },
  {
   "cell_type": "markdown",
   "metadata": {
    "collapsed": true,
    "slideshow": {
     "slide_type": "slide"
    }
   },
   "source": [
    "## ものの測定データ\n",
    "得られた1000個のデータが正規分布に従っていると仮定して、計算をしてみましょう。"
   ]
  },
  {
   "cell_type": "code",
   "execution_count": 18,
   "metadata": {
    "collapsed": false,
    "scrolled": true,
    "slideshow": {
     "slide_type": "subslide"
    }
   },
   "outputs": [],
   "source": [
    "# 平均30,分散10の正規分布に従って、randomな数を1000個作成。\n",
    "normal_datum = normal(30,10, 1000)"
   ]
  },
  {
   "cell_type": "code",
   "execution_count": 19,
   "metadata": {
    "collapsed": false,
    "slideshow": {
     "slide_type": "subslide"
    }
   },
   "outputs": [
    {
     "data": {
      "text/plain": [
       "(array([  1.,   2.,   2.,   1.,   2.,   6.,   4.,   2.,   7.,   8.,   7.,\n",
       "         12.,  14.,  32.,  27.,  25.,  33.,  39.,  40.,  56.,  59.,  42.,\n",
       "         49.,  61.,  57.,  54.,  55.,  46.,  54.,  44.,  23.,  24.,  24.,\n",
       "         21.,  16.,  14.,   8.,   8.,   4.,   2.,   2.,   2.,   2.,   4.,\n",
       "          2.,   1.,   0.,   1.,   0.,   1.]),\n",
       " array([ -2.12119901,  -0.72931364,   0.66257173,   2.05445709,\n",
       "          3.44634246,   4.83822783,   6.2301132 ,   7.62199856,\n",
       "          9.01388393,  10.4057693 ,  11.79765467,  13.18954004,\n",
       "         14.5814254 ,  15.97331077,  17.36519614,  18.75708151,\n",
       "         20.14896688,  21.54085224,  22.93273761,  24.32462298,\n",
       "         25.71650835,  27.10839371,  28.50027908,  29.89216445,\n",
       "         31.28404982,  32.67593519,  34.06782055,  35.45970592,\n",
       "         36.85159129,  38.24347666,  39.63536202,  41.02724739,\n",
       "         42.41913276,  43.81101813,  45.2029035 ,  46.59478886,\n",
       "         47.98667423,  49.3785596 ,  50.77044497,  52.16233033,\n",
       "         53.5542157 ,  54.94610107,  56.33798644,  57.72987181,\n",
       "         59.12175717,  60.51364254,  61.90552791,  63.29741328,\n",
       "         64.68929864,  66.08118401,  67.47306938]),\n",
       " <a list of 50 Patch objects>)"
      ]
     },
     "execution_count": 19,
     "metadata": {},
     "output_type": "execute_result"
    },
    {
     "data": {
      "image/png": "[encoded data removed]",
      "text/plain": [
       "<matplotlib.figure.Figure at 0x1102ef3d0>"
      ]
     },
     "metadata": {},
     "output_type": "display_data"
    }
   ],
   "source": [
    "plt.hist(normal_datum, bins=50, alpha=0.6)\n",
    "#plt.show()"
   ]
  },
  {
   "cell_type": "markdown",
   "metadata": {
    "slideshow": {
     "slide_type": "subslide"
    }
   },
   "source": [
    "そこで平均の推定量は次のように計算される。\n",
    "\n",
    "$$ \\bar{x} = \\hat{\\mu} = \\frac{1}{n} \\sum x_i $$\n",
    "\n",
    "同様に標準偏差の推定量は次のように計算される。\n",
    "\n",
    "$$ \\hat{\\sigma} = \\frac{\\sum (x_i - \\bar{x})^2}{n -1} $$\n",
    "\n",
    "推定量の標準偏差について、\n",
    "$$ \\sigma(\\bar{x}) = \\frac{\\sigma}{\\sqrt{n}} $$\n",
    "が言えて、\n",
    "$$ \\sigma(\\bar{x}) = \\frac{\\hat{\\sigma}}{\\sqrt{n}} $$\n",
    "と計算して求めることができる。"
   ]
  },
  {
   "cell_type": "code",
   "execution_count": 20,
   "metadata": {
    "collapsed": false,
    "slideshow": {
     "slide_type": "subslide"
    }
   },
   "outputs": [
    {
     "name": "stdout",
     "output_type": "stream",
     "text": [
      "Mean=30.355, STD=10.15109,Mean_STD=2.621\n",
      "よって平均値の推定は、30.355±2.621, 分散の推定値は10.15109 \n",
      "真の値である平均値30,分散10とconsistent\n"
     ]
    }
   ],
   "source": [
    "mean = round(np.mean(normal_datum,dtype=np.float32),3)\n",
    "std = round(np.std(normal_datum, ddof=1,dtype=np.float32), 5)\n",
    "mean_std = round(std/math.sqrt(15), 5)\n",
    "print \"Mean={0}, STD={1},Mean_STD={2}\".format(mean, std, mean_std)\n",
    "print \"よって平均値の推定は、{0}±{2}, 分散の推定値は{1} \\n真の値である平均値30,分散10とconsistent\".format(mean, std, mean_std)"
   ]
  },
  {
   "cell_type": "markdown",
   "metadata": {
    "slideshow": {
     "slide_type": "slide"
    }
   },
   "source": [
    "# Pandasを使ったData加工\n",
    "\n",
    "<font color='red'>DataFrame</font>と呼ばれる2次元表型のデータ構造オブジェクト\n",
    "\n",
    "と、\n",
    "\n",
    "<font color='red'>Series</font>と呼ばれる時系列を扱うオブジェクト\n",
    "\n",
    "が主に使われる。"
   ]
  },
  {
   "cell_type": "code",
   "execution_count": 21,
   "metadata": {
    "collapsed": false,
    "slideshow": {
     "slide_type": "subslide"
    }
   },
   "outputs": [
    {
     "name": "stdout",
     "output_type": "stream",
     "text": [
      "2015-05-24   -1.015127\n",
      "2015-05-25   -0.700606\n",
      "2015-05-26   -1.565424\n",
      "2015-05-27   -0.805106\n",
      "2015-05-28    0.477275\n",
      "2015-05-29    0.815891\n",
      "2015-05-30   -0.361675\n",
      "2015-05-31   -0.155646\n",
      "2015-06-01   -0.735334\n",
      "2015-06-02   -0.007616\n",
      "2015-06-03    1.084918\n",
      "2015-06-04    0.542306\n",
      "2015-06-05   -1.086443\n",
      "2015-06-06   -0.253934\n",
      "2015-06-07   -0.245384\n",
      "...\n",
      "2016-06-12   -1.407929\n",
      "2016-06-13    0.967458\n",
      "2016-06-14   -0.077468\n",
      "2016-06-15    0.200483\n",
      "2016-06-16    0.904738\n",
      "2016-06-17   -0.188462\n",
      "2016-06-18    1.897103\n",
      "2016-06-19   -0.078194\n",
      "2016-06-20   -0.961616\n",
      "2016-06-21   -1.251016\n",
      "2016-06-22   -0.321987\n",
      "2016-06-23    0.425750\n",
      "2016-06-24    0.669593\n",
      "2016-06-25   -1.324466\n",
      "2016-06-26    1.528311\n",
      "Freq: D, Length: 400\n"
     ]
    },
    {
     "data": {
      "text/plain": [
       "<matplotlib.text.Text at 0x112e20ed0>"
      ]
     },
     "execution_count": 21,
     "metadata": {},
     "output_type": "execute_result"
    },
    {
     "data": {
      "image/png": "[encoded data removed]",
      "text/plain": [
       "<matplotlib.figure.Figure at 0x112c08ad0>"
      ]
     },
     "metadata": {},
     "output_type": "display_data"
    }
   ],
   "source": [
    "time_series = pd.Series(randn(400), index=pd.date_range('5/24/2015', periods=400))\n",
    "print time_series\n",
    "time_series_cum = time_series.cumsum()\n",
    "time_series_cum.plot()\n",
    "plt.title(\"Time series data\")"
   ]
  },
  {
   "cell_type": "code",
   "execution_count": 22,
   "metadata": {
    "collapsed": false,
    "slideshow": {
     "slide_type": "subslide"
    }
   },
   "outputs": [
    {
     "name": "stdout",
     "output_type": "stream",
     "text": [
      "          a         b         c         d         e\n",
      "0  0.126286  0.860364  0.913649  0.908906  0.744305\n",
      "1  0.173362  0.343173  0.952603  0.418449  0.788074\n",
      "2  0.591672  0.572297  0.062529  0.363947  0.122447\n",
      "3  0.922898  0.877636  0.182187  0.467355  0.548268\n",
      "4  0.055321  0.434391  0.546654  0.047593  0.738465\n",
      "5  0.159176  0.036155  0.280663  0.106096  0.589866\n",
      "6  0.006628  0.058498  0.219269  0.996642  0.215377\n",
      "7  0.490006  0.576908  0.186344  0.545184  0.319206\n"
     ]
    },
    {
     "data": {
      "text/plain": [
       "<matplotlib.text.Text at 0x112e16990>"
      ]
     },
     "execution_count": 22,
     "metadata": {},
     "output_type": "execute_result"
    },
    {
     "data": {
      "image/png": "[encoded data removed]",
      "text/plain": [
       "<matplotlib.figure.Figure at 0x112f54d10>"
      ]
     },
     "metadata": {},
     "output_type": "display_data"
    }
   ],
   "source": [
    "df1 = pd.DataFrame(rand(8, 5), columns=['a', 'b', 'c', 'd', 'e'])\n",
    "print df1\n",
    "df1.plot(kind='bar', alpha=0.6)\n",
    "plt.title(\"Bar data\")"
   ]
  },
  {
   "cell_type": "code",
   "execution_count": 23,
   "metadata": {
    "collapsed": false,
    "slideshow": {
     "slide_type": "subslide"
    }
   },
   "outputs": [
    {
     "data": {
      "text/plain": [
       "<matplotlib.text.Text at 0x113284750>"
      ]
     },
     "execution_count": 23,
     "metadata": {},
     "output_type": "execute_result"
    },
    {
     "data": {
      "image/png": "[encoded data removed]",
      "text/plain": [
       "<matplotlib.figure.Figure at 0x1130e28d0>"
      ]
     },
     "metadata": {},
     "output_type": "display_data"
    }
   ],
   "source": [
    "df = pd.DataFrame(rand(50, 6), columns=['a', 'b', 'c', 'd', 'e', 'f'])\n",
    "ax1 = df.plot(kind='scatter', x='a', y='b',color='Blue', label='Group 1')\n",
    "ax2 = df.plot(kind='scatter', x='c', y='d', color='Yellow', label='Group 2',ax=ax1)\n",
    "df.plot(kind='scatter', x='e', y='f', color='Red', label='Group 3', ax=ax2)\n",
    "plt.xlabel('X axis')\n",
    "plt.ylabel('Y axis')"
   ]
  },
  {
   "cell_type": "markdown",
   "metadata": {
    "slideshow": {
     "slide_type": "slide"
    }
   },
   "source": [
    "# dataの読み書き\n",
    "### pandasから読み書きする方法が分かりやすい。\n",
    "csv fileとtsv fileで使うと互換性がよい。"
   ]
  },
  {
   "cell_type": "markdown",
   "metadata": {
    "slideshow": {
     "slide_type": "subslide"
    }
   },
   "source": [
    "### データを書き込み"
   ]
  },
  {
   "cell_type": "code",
   "execution_count": 24,
   "metadata": {
    "collapsed": false,
    "slideshow": {
     "slide_type": "fragment"
    }
   },
   "outputs": [],
   "source": [
    "df1.to_csv('bar_data.csv', index=0)\n",
    "df1.to_csv( 'bar_data.tsv', sep='\\t', index=0)"
   ]
  },
  {
   "cell_type": "markdown",
   "metadata": {
    "slideshow": {
     "slide_type": "subslide"
    }
   },
   "source": [
    "### データの読み込み"
   ]
  },
  {
   "cell_type": "code",
   "execution_count": 25,
   "metadata": {
    "collapsed": false,
    "slideshow": {
     "slide_type": "fragment"
    }
   },
   "outputs": [
    {
     "data": {
      "text/html": [
       "<div style=\"max-height:1000px;max-width:1500px;overflow:auto;\">\n",
       "<table border=\"1\" class=\"dataframe\">\n",
       "  <thead>\n",
       "    <tr style=\"text-align: right;\">\n",
       "      <th></th>\n",
       "      <th>a</th>\n",
       "      <th>b</th>\n",
       "      <th>c</th>\n",
       "      <th>d</th>\n",
       "      <th>e</th>\n",
       "    </tr>\n",
       "  </thead>\n",
       "  <tbody>\n",
       "    <tr>\n",
       "      <th>0</th>\n",
       "      <td> 0.126286</td>\n",
       "      <td> 0.860364</td>\n",
       "      <td> 0.913649</td>\n",
       "      <td> 0.908906</td>\n",
       "      <td> 0.744305</td>\n",
       "    </tr>\n",
       "    <tr>\n",
       "      <th>1</th>\n",
       "      <td> 0.173362</td>\n",
       "      <td> 0.343173</td>\n",
       "      <td> 0.952603</td>\n",
       "      <td> 0.418449</td>\n",
       "      <td> 0.788074</td>\n",
       "    </tr>\n",
       "    <tr>\n",
       "      <th>2</th>\n",
       "      <td> 0.591672</td>\n",
       "      <td> 0.572297</td>\n",
       "      <td> 0.062529</td>\n",
       "      <td> 0.363947</td>\n",
       "      <td> 0.122447</td>\n",
       "    </tr>\n",
       "    <tr>\n",
       "      <th>3</th>\n",
       "      <td> 0.922898</td>\n",
       "      <td> 0.877636</td>\n",
       "      <td> 0.182187</td>\n",
       "      <td> 0.467355</td>\n",
       "      <td> 0.548268</td>\n",
       "    </tr>\n",
       "    <tr>\n",
       "      <th>4</th>\n",
       "      <td> 0.055321</td>\n",
       "      <td> 0.434391</td>\n",
       "      <td> 0.546654</td>\n",
       "      <td> 0.047593</td>\n",
       "      <td> 0.738465</td>\n",
       "    </tr>\n",
       "    <tr>\n",
       "      <th>5</th>\n",
       "      <td> 0.159176</td>\n",
       "      <td> 0.036155</td>\n",
       "      <td> 0.280663</td>\n",
       "      <td> 0.106096</td>\n",
       "      <td> 0.589866</td>\n",
       "    </tr>\n",
       "    <tr>\n",
       "      <th>6</th>\n",
       "      <td> 0.006628</td>\n",
       "      <td> 0.058498</td>\n",
       "      <td> 0.219269</td>\n",
       "      <td> 0.996642</td>\n",
       "      <td> 0.215377</td>\n",
       "    </tr>\n",
       "    <tr>\n",
       "      <th>7</th>\n",
       "      <td> 0.490006</td>\n",
       "      <td> 0.576908</td>\n",
       "      <td> 0.186344</td>\n",
       "      <td> 0.545184</td>\n",
       "      <td> 0.319206</td>\n",
       "    </tr>\n",
       "  </tbody>\n",
       "</table>\n",
       "</div>"
      ],
      "text/plain": [
       "          a         b         c         d         e\n",
       "0  0.126286  0.860364  0.913649  0.908906  0.744305\n",
       "1  0.173362  0.343173  0.952603  0.418449  0.788074\n",
       "2  0.591672  0.572297  0.062529  0.363947  0.122447\n",
       "3  0.922898  0.877636  0.182187  0.467355  0.548268\n",
       "4  0.055321  0.434391  0.546654  0.047593  0.738465\n",
       "5  0.159176  0.036155  0.280663  0.106096  0.589866\n",
       "6  0.006628  0.058498  0.219269  0.996642  0.215377\n",
       "7  0.490006  0.576908  0.186344  0.545184  0.319206"
      ]
     },
     "execution_count": 25,
     "metadata": {},
     "output_type": "execute_result"
    }
   ],
   "source": [
    "df1 = pd.read_csv('bar_data.csv')\n",
    "df1"
   ]
  },
  {
   "cell_type": "markdown",
   "metadata": {
    "slideshow": {
     "slide_type": "slide"
    }
   },
   "source": [
    "これでこの回は終わります。\n",
    "それでは後半機械学習を実践してみましょう。"
   ]
  },
  {
   "cell_type": "code",
   "execution_count": null,
   "metadata": {
    "collapsed": true
   },
   "outputs": [],
   "source": []
  }
 ],
 "metadata": {
  "celltoolbar": "Slideshow",
  "kernelspec": {
   "display_name": "Python 2",
   "language": "python",
   "name": "python2"
  },
  "language_info": {
   "codemirror_mode": {
    "name": "ipython",
    "version": 2
   },
   "file_extension": ".py",
   "mimetype": "text/x-python",
   "name": "python",
   "nbconvert_exporter": "python",
   "pygments_lexer": "ipython2",
   "version": "2.7.9"
  }
 },
 "nbformat": 4,
 "nbformat_minor": 0
}
